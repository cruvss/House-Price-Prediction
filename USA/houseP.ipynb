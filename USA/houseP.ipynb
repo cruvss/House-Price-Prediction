{
 "cells": [
  {
   "cell_type": "markdown",
   "id": "0ae3e9d9",
   "metadata": {},
   "source": [
    "## 📊 Dataset Descriptions: U.S. Housing & Economic Indicators\n",
    "\n",
    "1. **`CPIAUCSL.csv`**  \n",
    "   📌 *Consumer Price Index (CPI) for All Urban Consumers*  \n",
    "   - Monthly U.S. inflation data  \n",
    "   - Measures the average price change for a basket of goods and services  \n",
    "   - Source: Bureau of Labor Statistics (via FRED)\n",
    "\n",
    "2. **`Metro_median_sale_price_uc_sfrcondo_week.csv`**  \n",
    "   🏠 *Weekly Median Sale Prices by Metro (Condos & Single-Family Homes)*  \n",
    "   - Granular, time-sensitive insights into real estate trends across U.S. metros  \n",
    "   - Helpful for tracking local housing market dynamics\n",
    "\n",
    "3. **`Metro_zhvi_uc_sfrcondo_tier_0.33_0.67_month.csv`**  \n",
    "   🏡 *Zillow Home Value Index (ZHVI) — Mid-Tier Properties*  \n",
    "   - Monthly data from Zillow's ZHVI series  \n",
    "   - Covers properties within the 33rd–67th percentile value range  \n",
    "   - Useful for assessing price trends of median-market homes\n",
    "\n",
    "4. **`MORTGAGE30US.csv`**  \n",
    "   📉 *30-Year Fixed Mortgage Rates (U.S.)*  \n",
    "   - Weekly interest rates on fixed-rate mortgages  \n",
    "   - Influences housing affordability and buying behavior  \n",
    "   - Source: Freddie Mac (via FRED)\n",
    "\n",
    "5. **`RRVRUSQ156N.csv`**  \n",
    "   🏘️ *U.S. Rental Vacancy Rate (Quarterly)*  \n",
    "   - Tracks the percentage of rental housing units that are vacant  \n",
    "   - Indicates housing supply-demand balance and rental market health  \n",
    "   - Source: U.S. Census Bureau (via FRED)\n",
    "\n",
    "---\n",
    "📦 *These datasets collectively provide a strong foundation for analyzing U.S. housing market trends, affordability, inflation, and economic signals.*\n"
   ]
  },
  {
   "cell_type": "code",
   "execution_count": 1,
   "id": "2e20b612",
   "metadata": {},
   "outputs": [],
   "source": [
    "import pandas as pd\n",
    "import numpy as np"
   ]
  },
  {
   "cell_type": "markdown",
   "id": "07df7ae8",
   "metadata": {},
   "source": [
    "### Load all datasets\n",
    "\n",
    "We deal with two types of datasets:\n",
    "- national economic indicators (e.g., CPI, mortgage rates)\n",
    "- housing market data  "
   ]
  },
  {
   "cell_type": "code",
   "execution_count": 2,
   "id": "e5589fe5",
   "metadata": {},
   "outputs": [],
   "source": [
    "national_economic_indicators = ['MORTGAGE30US.csv','RRVRUSQ156N.csv','CPIAUCSL.csv']\n",
    "\n",
    "dfs = [pd.read_csv(f,parse_dates=True, index_col=0) for f in national_economic_indicators]\n",
    "# mortage is weekly data\n",
    "# cpi is monthly data\n",
    "# vacancy is quaterly\n"
   ]
  },
  {
   "cell_type": "code",
   "execution_count": 3,
   "id": "ba0475be",
   "metadata": {},
   "outputs": [
    {
     "data": {
      "text/html": [
       "<div>\n",
       "<style scoped>\n",
       "    .dataframe tbody tr th:only-of-type {\n",
       "        vertical-align: middle;\n",
       "    }\n",
       "\n",
       "    .dataframe tbody tr th {\n",
       "        vertical-align: top;\n",
       "    }\n",
       "\n",
       "    .dataframe thead th {\n",
       "        text-align: right;\n",
       "    }\n",
       "</style>\n",
       "<table border=\"1\" class=\"dataframe\">\n",
       "  <thead>\n",
       "    <tr style=\"text-align: right;\">\n",
       "      <th></th>\n",
       "      <th>MORTGAGE30US</th>\n",
       "      <th>RRVRUSQ156N</th>\n",
       "      <th>CPIAUCSL</th>\n",
       "    </tr>\n",
       "    <tr>\n",
       "      <th>DATE</th>\n",
       "      <th></th>\n",
       "      <th></th>\n",
       "      <th></th>\n",
       "    </tr>\n",
       "  </thead>\n",
       "  <tbody>\n",
       "    <tr>\n",
       "      <th>2022-07-14</th>\n",
       "      <td>5.51</td>\n",
       "      <td>NaN</td>\n",
       "      <td>NaN</td>\n",
       "    </tr>\n",
       "    <tr>\n",
       "      <th>2022-07-21</th>\n",
       "      <td>5.54</td>\n",
       "      <td>NaN</td>\n",
       "      <td>NaN</td>\n",
       "    </tr>\n",
       "    <tr>\n",
       "      <th>2022-07-28</th>\n",
       "      <td>5.30</td>\n",
       "      <td>NaN</td>\n",
       "      <td>NaN</td>\n",
       "    </tr>\n",
       "    <tr>\n",
       "      <th>2022-08-04</th>\n",
       "      <td>4.99</td>\n",
       "      <td>NaN</td>\n",
       "      <td>NaN</td>\n",
       "    </tr>\n",
       "    <tr>\n",
       "      <th>2022-08-11</th>\n",
       "      <td>5.22</td>\n",
       "      <td>NaN</td>\n",
       "      <td>NaN</td>\n",
       "    </tr>\n",
       "  </tbody>\n",
       "</table>\n",
       "</div>"
      ],
      "text/plain": [
       "            MORTGAGE30US  RRVRUSQ156N  CPIAUCSL\n",
       "DATE                                           \n",
       "2022-07-14          5.51          NaN       NaN\n",
       "2022-07-21          5.54          NaN       NaN\n",
       "2022-07-28          5.30          NaN       NaN\n",
       "2022-08-04          4.99          NaN       NaN\n",
       "2022-08-11          5.22          NaN       NaN"
      ]
     },
     "execution_count": 3,
     "metadata": {},
     "output_type": "execute_result"
    }
   ],
   "source": [
    "fed_data = pd.concat(dfs, axis =1)\n",
    "fed_data.tail()"
   ]
  },
  {
   "cell_type": "markdown",
   "id": "5450af8a",
   "metadata": {},
   "source": [
    "Since these CSV files contain data recorded at different time intervals — weekly in the mortgage dataset, monthly in the CPI dataset, and quarterly in the rental vacancy dataset — we need to align them to a common frequency for consistent analysis. To handle the missing values that result from this alignment, we use forward fill, which fills in missing data points with the last known value. In pandas, this can be achieved using the .ffill() method."
   ]
  },
  {
   "cell_type": "code",
   "execution_count": 4,
   "id": "77d65f77",
   "metadata": {},
   "outputs": [],
   "source": [
    "fed_data = fed_data.ffill()"
   ]
  },
  {
   "cell_type": "code",
   "execution_count": 5,
   "id": "6c9bb3e9",
   "metadata": {},
   "outputs": [
    {
     "data": {
      "text/html": [
       "<div>\n",
       "<style scoped>\n",
       "    .dataframe tbody tr th:only-of-type {\n",
       "        vertical-align: middle;\n",
       "    }\n",
       "\n",
       "    .dataframe tbody tr th {\n",
       "        vertical-align: top;\n",
       "    }\n",
       "\n",
       "    .dataframe thead th {\n",
       "        text-align: right;\n",
       "    }\n",
       "</style>\n",
       "<table border=\"1\" class=\"dataframe\">\n",
       "  <thead>\n",
       "    <tr style=\"text-align: right;\">\n",
       "      <th></th>\n",
       "      <th>MORTGAGE30US</th>\n",
       "      <th>RRVRUSQ156N</th>\n",
       "      <th>CPIAUCSL</th>\n",
       "    </tr>\n",
       "    <tr>\n",
       "      <th>DATE</th>\n",
       "      <th></th>\n",
       "      <th></th>\n",
       "      <th></th>\n",
       "    </tr>\n",
       "  </thead>\n",
       "  <tbody>\n",
       "    <tr>\n",
       "      <th>2022-07-14</th>\n",
       "      <td>5.51</td>\n",
       "      <td>5.6</td>\n",
       "      <td>295.271</td>\n",
       "    </tr>\n",
       "    <tr>\n",
       "      <th>2022-07-21</th>\n",
       "      <td>5.54</td>\n",
       "      <td>5.6</td>\n",
       "      <td>295.271</td>\n",
       "    </tr>\n",
       "    <tr>\n",
       "      <th>2022-07-28</th>\n",
       "      <td>5.30</td>\n",
       "      <td>5.6</td>\n",
       "      <td>295.271</td>\n",
       "    </tr>\n",
       "    <tr>\n",
       "      <th>2022-08-04</th>\n",
       "      <td>4.99</td>\n",
       "      <td>5.6</td>\n",
       "      <td>295.271</td>\n",
       "    </tr>\n",
       "    <tr>\n",
       "      <th>2022-08-11</th>\n",
       "      <td>5.22</td>\n",
       "      <td>5.6</td>\n",
       "      <td>295.271</td>\n",
       "    </tr>\n",
       "  </tbody>\n",
       "</table>\n",
       "</div>"
      ],
      "text/plain": [
       "            MORTGAGE30US  RRVRUSQ156N  CPIAUCSL\n",
       "DATE                                           \n",
       "2022-07-14          5.51          5.6   295.271\n",
       "2022-07-21          5.54          5.6   295.271\n",
       "2022-07-28          5.30          5.6   295.271\n",
       "2022-08-04          4.99          5.6   295.271\n",
       "2022-08-11          5.22          5.6   295.271"
      ]
     },
     "execution_count": 5,
     "metadata": {},
     "output_type": "execute_result"
    }
   ],
   "source": [
    "fed_data.tail() # now all data are weekly "
   ]
  },
  {
   "cell_type": "code",
   "execution_count": 6,
   "id": "4802487a",
   "metadata": {},
   "outputs": [
    {
     "data": {
      "text/html": [
       "<div>\n",
       "<style scoped>\n",
       "    .dataframe tbody tr th:only-of-type {\n",
       "        vertical-align: middle;\n",
       "    }\n",
       "\n",
       "    .dataframe tbody tr th {\n",
       "        vertical-align: top;\n",
       "    }\n",
       "\n",
       "    .dataframe thead th {\n",
       "        text-align: right;\n",
       "    }\n",
       "</style>\n",
       "<table border=\"1\" class=\"dataframe\">\n",
       "  <thead>\n",
       "    <tr style=\"text-align: right;\">\n",
       "      <th></th>\n",
       "      <th>RegionID</th>\n",
       "      <th>SizeRank</th>\n",
       "      <th>RegionName</th>\n",
       "      <th>RegionType</th>\n",
       "      <th>StateName</th>\n",
       "      <th>2008-02-02</th>\n",
       "      <th>2008-02-09</th>\n",
       "      <th>2008-02-16</th>\n",
       "      <th>2008-02-23</th>\n",
       "      <th>2008-03-01</th>\n",
       "      <th>...</th>\n",
       "      <th>2022-05-07</th>\n",
       "      <th>2022-05-14</th>\n",
       "      <th>2022-05-21</th>\n",
       "      <th>2022-05-28</th>\n",
       "      <th>2022-06-04</th>\n",
       "      <th>2022-06-11</th>\n",
       "      <th>2022-06-18</th>\n",
       "      <th>2022-06-25</th>\n",
       "      <th>2022-07-02</th>\n",
       "      <th>2022-07-09</th>\n",
       "    </tr>\n",
       "  </thead>\n",
       "  <tbody>\n",
       "    <tr>\n",
       "      <th>0</th>\n",
       "      <td>102001</td>\n",
       "      <td>0</td>\n",
       "      <td>United States</td>\n",
       "      <td>Country</td>\n",
       "      <td>NaN</td>\n",
       "      <td>190000.0</td>\n",
       "      <td>190000.0</td>\n",
       "      <td>193000.0</td>\n",
       "      <td>189900.0</td>\n",
       "      <td>194900.0</td>\n",
       "      <td>...</td>\n",
       "      <td>369900.0</td>\n",
       "      <td>370000.0</td>\n",
       "      <td>370000.0</td>\n",
       "      <td>375000.0</td>\n",
       "      <td>375000.0</td>\n",
       "      <td>370000.0</td>\n",
       "      <td>375000.0</td>\n",
       "      <td>370000.0</td>\n",
       "      <td>370000.0</td>\n",
       "      <td>362500.0</td>\n",
       "    </tr>\n",
       "    <tr>\n",
       "      <th>1</th>\n",
       "      <td>394913</td>\n",
       "      <td>1</td>\n",
       "      <td>New York, NY</td>\n",
       "      <td>Msa</td>\n",
       "      <td>NY</td>\n",
       "      <td>400000.0</td>\n",
       "      <td>418250.0</td>\n",
       "      <td>420000.0</td>\n",
       "      <td>420000.0</td>\n",
       "      <td>400000.0</td>\n",
       "      <td>...</td>\n",
       "      <td>550000.0</td>\n",
       "      <td>555000.0</td>\n",
       "      <td>550000.0</td>\n",
       "      <td>575000.0</td>\n",
       "      <td>575000.0</td>\n",
       "      <td>578000.0</td>\n",
       "      <td>590000.0</td>\n",
       "      <td>582000.0</td>\n",
       "      <td>585000.0</td>\n",
       "      <td>595000.0</td>\n",
       "    </tr>\n",
       "    <tr>\n",
       "      <th>2</th>\n",
       "      <td>753899</td>\n",
       "      <td>2</td>\n",
       "      <td>Los Angeles-Long Beach-Anaheim, CA</td>\n",
       "      <td>Msa</td>\n",
       "      <td>CA</td>\n",
       "      <td>497500.0</td>\n",
       "      <td>515000.0</td>\n",
       "      <td>520000.0</td>\n",
       "      <td>525000.0</td>\n",
       "      <td>498250.0</td>\n",
       "      <td>...</td>\n",
       "      <td>914000.0</td>\n",
       "      <td>925000.0</td>\n",
       "      <td>925000.0</td>\n",
       "      <td>951000.0</td>\n",
       "      <td>950000.0</td>\n",
       "      <td>920500.0</td>\n",
       "      <td>925000.0</td>\n",
       "      <td>900000.0</td>\n",
       "      <td>900500.0</td>\n",
       "      <td>906000.0</td>\n",
       "    </tr>\n",
       "    <tr>\n",
       "      <th>3</th>\n",
       "      <td>394463</td>\n",
       "      <td>3</td>\n",
       "      <td>Chicago, IL</td>\n",
       "      <td>Msa</td>\n",
       "      <td>IL</td>\n",
       "      <td>245000.0</td>\n",
       "      <td>245000.0</td>\n",
       "      <td>251000.0</td>\n",
       "      <td>255000.0</td>\n",
       "      <td>255000.0</td>\n",
       "      <td>...</td>\n",
       "      <td>315000.0</td>\n",
       "      <td>310000.0</td>\n",
       "      <td>315500.0</td>\n",
       "      <td>315000.0</td>\n",
       "      <td>330000.0</td>\n",
       "      <td>324950.0</td>\n",
       "      <td>335000.0</td>\n",
       "      <td>325000.0</td>\n",
       "      <td>325000.0</td>\n",
       "      <td>315000.0</td>\n",
       "    </tr>\n",
       "    <tr>\n",
       "      <th>4</th>\n",
       "      <td>394514</td>\n",
       "      <td>4</td>\n",
       "      <td>Dallas-Fort Worth, TX</td>\n",
       "      <td>Msa</td>\n",
       "      <td>TX</td>\n",
       "      <td>144250.0</td>\n",
       "      <td>148900.0</td>\n",
       "      <td>139000.0</td>\n",
       "      <td>143700.0</td>\n",
       "      <td>145900.0</td>\n",
       "      <td>...</td>\n",
       "      <td>422000.0</td>\n",
       "      <td>430000.0</td>\n",
       "      <td>430000.0</td>\n",
       "      <td>425000.0</td>\n",
       "      <td>440000.0</td>\n",
       "      <td>425000.0</td>\n",
       "      <td>427750.0</td>\n",
       "      <td>426000.0</td>\n",
       "      <td>420000.0</td>\n",
       "      <td>420000.0</td>\n",
       "    </tr>\n",
       "  </tbody>\n",
       "</table>\n",
       "<p>5 rows × 759 columns</p>\n",
       "</div>"
      ],
      "text/plain": [
       "   RegionID  SizeRank                          RegionName RegionType  \\\n",
       "0    102001         0                       United States    Country   \n",
       "1    394913         1                        New York, NY        Msa   \n",
       "2    753899         2  Los Angeles-Long Beach-Anaheim, CA        Msa   \n",
       "3    394463         3                         Chicago, IL        Msa   \n",
       "4    394514         4               Dallas-Fort Worth, TX        Msa   \n",
       "\n",
       "  StateName  2008-02-02  2008-02-09  2008-02-16  2008-02-23  2008-03-01  ...  \\\n",
       "0       NaN    190000.0    190000.0    193000.0    189900.0    194900.0  ...   \n",
       "1        NY    400000.0    418250.0    420000.0    420000.0    400000.0  ...   \n",
       "2        CA    497500.0    515000.0    520000.0    525000.0    498250.0  ...   \n",
       "3        IL    245000.0    245000.0    251000.0    255000.0    255000.0  ...   \n",
       "4        TX    144250.0    148900.0    139000.0    143700.0    145900.0  ...   \n",
       "\n",
       "   2022-05-07  2022-05-14  2022-05-21  2022-05-28  2022-06-04  2022-06-11  \\\n",
       "0    369900.0    370000.0    370000.0    375000.0    375000.0    370000.0   \n",
       "1    550000.0    555000.0    550000.0    575000.0    575000.0    578000.0   \n",
       "2    914000.0    925000.0    925000.0    951000.0    950000.0    920500.0   \n",
       "3    315000.0    310000.0    315500.0    315000.0    330000.0    324950.0   \n",
       "4    422000.0    430000.0    430000.0    425000.0    440000.0    425000.0   \n",
       "\n",
       "   2022-06-18  2022-06-25  2022-07-02  2022-07-09  \n",
       "0    375000.0    370000.0    370000.0    362500.0  \n",
       "1    590000.0    582000.0    585000.0    595000.0  \n",
       "2    925000.0    900000.0    900500.0    906000.0  \n",
       "3    335000.0    325000.0    325000.0    315000.0  \n",
       "4    427750.0    426000.0    420000.0    420000.0  \n",
       "\n",
       "[5 rows x 759 columns]"
      ]
     },
     "execution_count": 6,
     "metadata": {},
     "output_type": "execute_result"
    }
   ],
   "source": [
    "house_data = ['Metro_median_sale_price_uc_sfrcondo_week.csv','Metro_zhvi_uc_sfrcondo_tier_0.33_0.67_month.csv']\n",
    "\n",
    "dfs = [pd.read_csv(f) for f in house_data]\n",
    "dfs[0].head()"
   ]
  },
  {
   "cell_type": "markdown",
   "id": "4399bbe4",
   "metadata": {},
   "source": [
    "In housing dataset each row represents a different metro area, and the columns represent the median sale price for that area. For a prediction task we can only take one particular metro area i.e. one particular row.  \n"
   ]
  },
  {
   "cell_type": "code",
   "execution_count": 7,
   "id": "45a30b3f",
   "metadata": {},
   "outputs": [
    {
     "data": {
      "text/html": [
       "<div>\n",
       "<style scoped>\n",
       "    .dataframe tbody tr th:only-of-type {\n",
       "        vertical-align: middle;\n",
       "    }\n",
       "\n",
       "    .dataframe tbody tr th {\n",
       "        vertical-align: top;\n",
       "    }\n",
       "\n",
       "    .dataframe thead th {\n",
       "        text-align: right;\n",
       "    }\n",
       "</style>\n",
       "<table border=\"1\" class=\"dataframe\">\n",
       "  <thead>\n",
       "    <tr style=\"text-align: right;\">\n",
       "      <th></th>\n",
       "      <th>0</th>\n",
       "    </tr>\n",
       "  </thead>\n",
       "  <tbody>\n",
       "    <tr>\n",
       "      <th>2008-02-02</th>\n",
       "      <td>190000.0</td>\n",
       "    </tr>\n",
       "    <tr>\n",
       "      <th>2008-02-09</th>\n",
       "      <td>190000.0</td>\n",
       "    </tr>\n",
       "    <tr>\n",
       "      <th>2008-02-16</th>\n",
       "      <td>193000.0</td>\n",
       "    </tr>\n",
       "    <tr>\n",
       "      <th>2008-02-23</th>\n",
       "      <td>189900.0</td>\n",
       "    </tr>\n",
       "    <tr>\n",
       "      <th>2008-03-01</th>\n",
       "      <td>194900.0</td>\n",
       "    </tr>\n",
       "  </tbody>\n",
       "</table>\n",
       "</div>"
      ],
      "text/plain": [
       "                   0\n",
       "2008-02-02  190000.0\n",
       "2008-02-09  190000.0\n",
       "2008-02-16  193000.0\n",
       "2008-02-23  189900.0\n",
       "2008-03-01  194900.0"
      ]
     },
     "execution_count": 7,
     "metadata": {},
     "output_type": "execute_result"
    }
   ],
   "source": [
    "dfs = [pd.DataFrame(df.iloc[0,5:]) for df in dfs ] # only taking first row \n",
    "dfs[0].head()"
   ]
  },
  {
   "cell_type": "markdown",
   "id": "426ccb91",
   "metadata": {},
   "source": [
    "we can observe that in housing data the data is recorded monthly, while our previous economic indicators are recorded weekly"
   ]
  },
  {
   "cell_type": "code",
   "execution_count": 8,
   "id": "34fadf71",
   "metadata": {},
   "outputs": [],
   "source": [
    "for df in dfs:\n",
    "    df.index = pd.to_datetime(df.index)\n",
    "    df['month'] = df.index.to_period('M')"
   ]
  },
  {
   "cell_type": "code",
   "execution_count": 9,
   "id": "855b6738",
   "metadata": {},
   "outputs": [
    {
     "data": {
      "text/html": [
       "<div>\n",
       "<style scoped>\n",
       "    .dataframe tbody tr th:only-of-type {\n",
       "        vertical-align: middle;\n",
       "    }\n",
       "\n",
       "    .dataframe tbody tr th {\n",
       "        vertical-align: top;\n",
       "    }\n",
       "\n",
       "    .dataframe thead th {\n",
       "        text-align: right;\n",
       "    }\n",
       "</style>\n",
       "<table border=\"1\" class=\"dataframe\">\n",
       "  <thead>\n",
       "    <tr style=\"text-align: right;\">\n",
       "      <th></th>\n",
       "      <th>0</th>\n",
       "      <th>month</th>\n",
       "    </tr>\n",
       "  </thead>\n",
       "  <tbody>\n",
       "    <tr>\n",
       "      <th>1996-01-31</th>\n",
       "      <td>108641.264685</td>\n",
       "      <td>1996-01</td>\n",
       "    </tr>\n",
       "    <tr>\n",
       "      <th>1996-02-29</th>\n",
       "      <td>108472.72888</td>\n",
       "      <td>1996-02</td>\n",
       "    </tr>\n",
       "    <tr>\n",
       "      <th>1996-03-31</th>\n",
       "      <td>108532.280074</td>\n",
       "      <td>1996-03</td>\n",
       "    </tr>\n",
       "    <tr>\n",
       "      <th>1996-04-30</th>\n",
       "      <td>108739.077466</td>\n",
       "      <td>1996-04</td>\n",
       "    </tr>\n",
       "    <tr>\n",
       "      <th>1996-05-31</th>\n",
       "      <td>108986.621607</td>\n",
       "      <td>1996-05</td>\n",
       "    </tr>\n",
       "    <tr>\n",
       "      <th>...</th>\n",
       "      <td>...</td>\n",
       "      <td>...</td>\n",
       "    </tr>\n",
       "    <tr>\n",
       "      <th>2022-03-31</th>\n",
       "      <td>344042.433111</td>\n",
       "      <td>2022-03</td>\n",
       "    </tr>\n",
       "    <tr>\n",
       "      <th>2022-04-30</th>\n",
       "      <td>350515.841789</td>\n",
       "      <td>2022-04</td>\n",
       "    </tr>\n",
       "    <tr>\n",
       "      <th>2022-05-31</th>\n",
       "      <td>354717.722904</td>\n",
       "      <td>2022-05</td>\n",
       "    </tr>\n",
       "    <tr>\n",
       "      <th>2022-06-30</th>\n",
       "      <td>357473.327397</td>\n",
       "      <td>2022-06</td>\n",
       "    </tr>\n",
       "    <tr>\n",
       "      <th>2022-07-31</th>\n",
       "      <td>357107.271636</td>\n",
       "      <td>2022-07</td>\n",
       "    </tr>\n",
       "  </tbody>\n",
       "</table>\n",
       "<p>319 rows × 2 columns</p>\n",
       "</div>"
      ],
      "text/plain": [
       "                        0    month\n",
       "1996-01-31  108641.264685  1996-01\n",
       "1996-02-29   108472.72888  1996-02\n",
       "1996-03-31  108532.280074  1996-03\n",
       "1996-04-30  108739.077466  1996-04\n",
       "1996-05-31  108986.621607  1996-05\n",
       "...                   ...      ...\n",
       "2022-03-31  344042.433111  2022-03\n",
       "2022-04-30  350515.841789  2022-04\n",
       "2022-05-31  354717.722904  2022-05\n",
       "2022-06-30  357473.327397  2022-06\n",
       "2022-07-31  357107.271636  2022-07\n",
       "\n",
       "[319 rows x 2 columns]"
      ]
     },
     "execution_count": 9,
     "metadata": {},
     "output_type": "execute_result"
    }
   ],
   "source": [
    "dfs[1]"
   ]
  },
  {
   "cell_type": "code",
   "execution_count": 10,
   "id": "67db57ec",
   "metadata": {},
   "outputs": [],
   "source": [
    "housing_price = dfs[0].merge(dfs[1], on= 'month')"
   ]
  },
  {
   "cell_type": "code",
   "execution_count": 11,
   "id": "8b7c976e",
   "metadata": {},
   "outputs": [],
   "source": [
    "housing_price.index =  dfs[0].index"
   ]
  },
  {
   "cell_type": "code",
   "execution_count": 12,
   "id": "d2e7fdc4",
   "metadata": {},
   "outputs": [],
   "source": [
    "del housing_price['month']\n",
    "columns = ['price','value']\n",
    "housing_price.columns = columns\n"
   ]
  },
  {
   "cell_type": "markdown",
   "id": "76c654fb",
   "metadata": {},
   "source": [
    "price mean the actual amount the customer paid, value means the estimated value of the property."
   ]
  },
  {
   "cell_type": "code",
   "execution_count": 13,
   "id": "f09b7a5e",
   "metadata": {},
   "outputs": [
    {
     "data": {
      "text/html": [
       "<div>\n",
       "<style scoped>\n",
       "    .dataframe tbody tr th:only-of-type {\n",
       "        vertical-align: middle;\n",
       "    }\n",
       "\n",
       "    .dataframe tbody tr th {\n",
       "        vertical-align: top;\n",
       "    }\n",
       "\n",
       "    .dataframe thead th {\n",
       "        text-align: right;\n",
       "    }\n",
       "</style>\n",
       "<table border=\"1\" class=\"dataframe\">\n",
       "  <thead>\n",
       "    <tr style=\"text-align: right;\">\n",
       "      <th></th>\n",
       "      <th>price</th>\n",
       "      <th>value</th>\n",
       "    </tr>\n",
       "  </thead>\n",
       "  <tbody>\n",
       "    <tr>\n",
       "      <th>2008-02-02</th>\n",
       "      <td>190000.0</td>\n",
       "      <td>206885.853266</td>\n",
       "    </tr>\n",
       "    <tr>\n",
       "      <th>2008-02-09</th>\n",
       "      <td>190000.0</td>\n",
       "      <td>206885.853266</td>\n",
       "    </tr>\n",
       "    <tr>\n",
       "      <th>2008-02-16</th>\n",
       "      <td>193000.0</td>\n",
       "      <td>206885.853266</td>\n",
       "    </tr>\n",
       "    <tr>\n",
       "      <th>2008-02-23</th>\n",
       "      <td>189900.0</td>\n",
       "      <td>206885.853266</td>\n",
       "    </tr>\n",
       "    <tr>\n",
       "      <th>2008-03-01</th>\n",
       "      <td>194900.0</td>\n",
       "      <td>205459.521952</td>\n",
       "    </tr>\n",
       "    <tr>\n",
       "      <th>...</th>\n",
       "      <td>...</td>\n",
       "      <td>...</td>\n",
       "    </tr>\n",
       "    <tr>\n",
       "      <th>2022-06-11</th>\n",
       "      <td>370000.0</td>\n",
       "      <td>357473.327397</td>\n",
       "    </tr>\n",
       "    <tr>\n",
       "      <th>2022-06-18</th>\n",
       "      <td>375000.0</td>\n",
       "      <td>357473.327397</td>\n",
       "    </tr>\n",
       "    <tr>\n",
       "      <th>2022-06-25</th>\n",
       "      <td>370000.0</td>\n",
       "      <td>357473.327397</td>\n",
       "    </tr>\n",
       "    <tr>\n",
       "      <th>2022-07-02</th>\n",
       "      <td>370000.0</td>\n",
       "      <td>357107.271636</td>\n",
       "    </tr>\n",
       "    <tr>\n",
       "      <th>2022-07-09</th>\n",
       "      <td>362500.0</td>\n",
       "      <td>357107.271636</td>\n",
       "    </tr>\n",
       "  </tbody>\n",
       "</table>\n",
       "<p>754 rows × 2 columns</p>\n",
       "</div>"
      ],
      "text/plain": [
       "               price          value\n",
       "2008-02-02  190000.0  206885.853266\n",
       "2008-02-09  190000.0  206885.853266\n",
       "2008-02-16  193000.0  206885.853266\n",
       "2008-02-23  189900.0  206885.853266\n",
       "2008-03-01  194900.0  205459.521952\n",
       "...              ...            ...\n",
       "2022-06-11  370000.0  357473.327397\n",
       "2022-06-18  375000.0  357473.327397\n",
       "2022-06-25  370000.0  357473.327397\n",
       "2022-07-02  370000.0  357107.271636\n",
       "2022-07-09  362500.0  357107.271636\n",
       "\n",
       "[754 rows x 2 columns]"
      ]
     },
     "execution_count": 13,
     "metadata": {},
     "output_type": "execute_result"
    }
   ],
   "source": [
    "housing_price"
   ]
  },
  {
   "cell_type": "markdown",
   "id": "a3b6af5a",
   "metadata": {},
   "source": [
    "Now we need to combine the natinal economic indicators with the housing data. "
   ]
  },
  {
   "cell_type": "code",
   "execution_count": 14,
   "id": "33aded52",
   "metadata": {},
   "outputs": [
    {
     "data": {
      "text/html": [
       "<div>\n",
       "<style scoped>\n",
       "    .dataframe tbody tr th:only-of-type {\n",
       "        vertical-align: middle;\n",
       "    }\n",
       "\n",
       "    .dataframe tbody tr th {\n",
       "        vertical-align: top;\n",
       "    }\n",
       "\n",
       "    .dataframe thead th {\n",
       "        text-align: right;\n",
       "    }\n",
       "</style>\n",
       "<table border=\"1\" class=\"dataframe\">\n",
       "  <thead>\n",
       "    <tr style=\"text-align: right;\">\n",
       "      <th></th>\n",
       "      <th>price</th>\n",
       "      <th>value</th>\n",
       "    </tr>\n",
       "  </thead>\n",
       "  <tbody>\n",
       "    <tr>\n",
       "      <th>2022-05-07</th>\n",
       "      <td>369900.0</td>\n",
       "      <td>354717.722904</td>\n",
       "    </tr>\n",
       "    <tr>\n",
       "      <th>2022-05-14</th>\n",
       "      <td>370000.0</td>\n",
       "      <td>354717.722904</td>\n",
       "    </tr>\n",
       "    <tr>\n",
       "      <th>2022-05-21</th>\n",
       "      <td>370000.0</td>\n",
       "      <td>354717.722904</td>\n",
       "    </tr>\n",
       "    <tr>\n",
       "      <th>2022-05-28</th>\n",
       "      <td>375000.0</td>\n",
       "      <td>354717.722904</td>\n",
       "    </tr>\n",
       "  </tbody>\n",
       "</table>\n",
       "</div>"
      ],
      "text/plain": [
       "               price          value\n",
       "2022-05-07  369900.0  354717.722904\n",
       "2022-05-14  370000.0  354717.722904\n",
       "2022-05-21  370000.0  354717.722904\n",
       "2022-05-28  375000.0  354717.722904"
      ]
     },
     "execution_count": 14,
     "metadata": {},
     "output_type": "execute_result"
    }
   ],
   "source": [
    "housing_price.loc['2022-05-02': '2022-06-01']"
   ]
  },
  {
   "cell_type": "code",
   "execution_count": 15,
   "id": "9fae61dc",
   "metadata": {},
   "outputs": [
    {
     "data": {
      "text/html": [
       "<div>\n",
       "<style scoped>\n",
       "    .dataframe tbody tr th:only-of-type {\n",
       "        vertical-align: middle;\n",
       "    }\n",
       "\n",
       "    .dataframe tbody tr th {\n",
       "        vertical-align: top;\n",
       "    }\n",
       "\n",
       "    .dataframe thead th {\n",
       "        text-align: right;\n",
       "    }\n",
       "</style>\n",
       "<table border=\"1\" class=\"dataframe\">\n",
       "  <thead>\n",
       "    <tr style=\"text-align: right;\">\n",
       "      <th></th>\n",
       "      <th>MORTGAGE30US</th>\n",
       "      <th>RRVRUSQ156N</th>\n",
       "      <th>CPIAUCSL</th>\n",
       "    </tr>\n",
       "    <tr>\n",
       "      <th>DATE</th>\n",
       "      <th></th>\n",
       "      <th></th>\n",
       "      <th></th>\n",
       "    </tr>\n",
       "  </thead>\n",
       "  <tbody>\n",
       "    <tr>\n",
       "      <th>2022-05-05</th>\n",
       "      <td>5.27</td>\n",
       "      <td>5.6</td>\n",
       "      <td>291.474</td>\n",
       "    </tr>\n",
       "    <tr>\n",
       "      <th>2022-05-12</th>\n",
       "      <td>5.30</td>\n",
       "      <td>5.6</td>\n",
       "      <td>291.474</td>\n",
       "    </tr>\n",
       "    <tr>\n",
       "      <th>2022-05-19</th>\n",
       "      <td>5.25</td>\n",
       "      <td>5.6</td>\n",
       "      <td>291.474</td>\n",
       "    </tr>\n",
       "    <tr>\n",
       "      <th>2022-05-26</th>\n",
       "      <td>5.10</td>\n",
       "      <td>5.6</td>\n",
       "      <td>291.474</td>\n",
       "    </tr>\n",
       "    <tr>\n",
       "      <th>2022-06-01</th>\n",
       "      <td>5.10</td>\n",
       "      <td>5.6</td>\n",
       "      <td>295.328</td>\n",
       "    </tr>\n",
       "  </tbody>\n",
       "</table>\n",
       "</div>"
      ],
      "text/plain": [
       "            MORTGAGE30US  RRVRUSQ156N  CPIAUCSL\n",
       "DATE                                           \n",
       "2022-05-05          5.27          5.6   291.474\n",
       "2022-05-12          5.30          5.6   291.474\n",
       "2022-05-19          5.25          5.6   291.474\n",
       "2022-05-26          5.10          5.6   291.474\n",
       "2022-06-01          5.10          5.6   295.328"
      ]
     },
     "execution_count": 15,
     "metadata": {},
     "output_type": "execute_result"
    }
   ],
   "source": [
    "fed_data.loc['2022-05-2':'2022-06-01']"
   ]
  },
  {
   "cell_type": "markdown",
   "id": "0de5b4aa",
   "metadata": {},
   "source": [
    "Before Combining these, we can obseve that the nation econmic indicators and those house price data are off by 2 days. So we need to shift the national economic indicators by 2 days."
   ]
  },
  {
   "cell_type": "code",
   "execution_count": 16,
   "id": "40399614",
   "metadata": {},
   "outputs": [],
   "source": [
    "from datetime import timedelta \n",
    "\n",
    "fed_data.index = fed_data.index + timedelta(days=2) "
   ]
  },
  {
   "cell_type": "code",
   "execution_count": 17,
   "id": "91db3067",
   "metadata": {},
   "outputs": [
    {
     "data": {
      "text/html": [
       "<div>\n",
       "<style scoped>\n",
       "    .dataframe tbody tr th:only-of-type {\n",
       "        vertical-align: middle;\n",
       "    }\n",
       "\n",
       "    .dataframe tbody tr th {\n",
       "        vertical-align: top;\n",
       "    }\n",
       "\n",
       "    .dataframe thead th {\n",
       "        text-align: right;\n",
       "    }\n",
       "</style>\n",
       "<table border=\"1\" class=\"dataframe\">\n",
       "  <thead>\n",
       "    <tr style=\"text-align: right;\">\n",
       "      <th></th>\n",
       "      <th>MORTGAGE30US</th>\n",
       "      <th>RRVRUSQ156N</th>\n",
       "      <th>CPIAUCSL</th>\n",
       "    </tr>\n",
       "    <tr>\n",
       "      <th>DATE</th>\n",
       "      <th></th>\n",
       "      <th></th>\n",
       "      <th></th>\n",
       "    </tr>\n",
       "  </thead>\n",
       "  <tbody>\n",
       "    <tr>\n",
       "      <th>2022-05-03</th>\n",
       "      <td>5.10</td>\n",
       "      <td>5.6</td>\n",
       "      <td>291.474</td>\n",
       "    </tr>\n",
       "    <tr>\n",
       "      <th>2022-05-07</th>\n",
       "      <td>5.27</td>\n",
       "      <td>5.6</td>\n",
       "      <td>291.474</td>\n",
       "    </tr>\n",
       "    <tr>\n",
       "      <th>2022-05-14</th>\n",
       "      <td>5.30</td>\n",
       "      <td>5.6</td>\n",
       "      <td>291.474</td>\n",
       "    </tr>\n",
       "    <tr>\n",
       "      <th>2022-05-21</th>\n",
       "      <td>5.25</td>\n",
       "      <td>5.6</td>\n",
       "      <td>291.474</td>\n",
       "    </tr>\n",
       "    <tr>\n",
       "      <th>2022-05-28</th>\n",
       "      <td>5.10</td>\n",
       "      <td>5.6</td>\n",
       "      <td>291.474</td>\n",
       "    </tr>\n",
       "  </tbody>\n",
       "</table>\n",
       "</div>"
      ],
      "text/plain": [
       "            MORTGAGE30US  RRVRUSQ156N  CPIAUCSL\n",
       "DATE                                           \n",
       "2022-05-03          5.10          5.6   291.474\n",
       "2022-05-07          5.27          5.6   291.474\n",
       "2022-05-14          5.30          5.6   291.474\n",
       "2022-05-21          5.25          5.6   291.474\n",
       "2022-05-28          5.10          5.6   291.474"
      ]
     },
     "execution_count": 17,
     "metadata": {},
     "output_type": "execute_result"
    }
   ],
   "source": [
    "fed_data.loc['2022-05-2':'2022-06-01']"
   ]
  },
  {
   "cell_type": "code",
   "execution_count": 18,
   "id": "939be20d",
   "metadata": {},
   "outputs": [
    {
     "data": {
      "text/html": [
       "<div>\n",
       "<style scoped>\n",
       "    .dataframe tbody tr th:only-of-type {\n",
       "        vertical-align: middle;\n",
       "    }\n",
       "\n",
       "    .dataframe tbody tr th {\n",
       "        vertical-align: top;\n",
       "    }\n",
       "\n",
       "    .dataframe thead th {\n",
       "        text-align: right;\n",
       "    }\n",
       "</style>\n",
       "<table border=\"1\" class=\"dataframe\">\n",
       "  <thead>\n",
       "    <tr style=\"text-align: right;\">\n",
       "      <th></th>\n",
       "      <th>price</th>\n",
       "      <th>value</th>\n",
       "    </tr>\n",
       "  </thead>\n",
       "  <tbody>\n",
       "    <tr>\n",
       "      <th>2022-05-07</th>\n",
       "      <td>369900.0</td>\n",
       "      <td>354717.722904</td>\n",
       "    </tr>\n",
       "    <tr>\n",
       "      <th>2022-05-14</th>\n",
       "      <td>370000.0</td>\n",
       "      <td>354717.722904</td>\n",
       "    </tr>\n",
       "    <tr>\n",
       "      <th>2022-05-21</th>\n",
       "      <td>370000.0</td>\n",
       "      <td>354717.722904</td>\n",
       "    </tr>\n",
       "    <tr>\n",
       "      <th>2022-05-28</th>\n",
       "      <td>375000.0</td>\n",
       "      <td>354717.722904</td>\n",
       "    </tr>\n",
       "  </tbody>\n",
       "</table>\n",
       "</div>"
      ],
      "text/plain": [
       "               price          value\n",
       "2022-05-07  369900.0  354717.722904\n",
       "2022-05-14  370000.0  354717.722904\n",
       "2022-05-21  370000.0  354717.722904\n",
       "2022-05-28  375000.0  354717.722904"
      ]
     },
     "execution_count": 18,
     "metadata": {},
     "output_type": "execute_result"
    }
   ],
   "source": [
    "housing_price.loc['2022-05-2':'2022-06-01']"
   ]
  },
  {
   "cell_type": "markdown",
   "id": "4d243c70",
   "metadata": {},
   "source": [
    "Now everything looks aligned. We can combine the national economic indicators with the housing data."
   ]
  },
  {
   "cell_type": "code",
   "execution_count": 19,
   "id": "b0840baf",
   "metadata": {},
   "outputs": [],
   "source": [
    "price_data =  fed_data.merge(housing_price, left_index=True, right_index=True)"
   ]
  },
  {
   "cell_type": "code",
   "execution_count": 20,
   "id": "eb94911d",
   "metadata": {},
   "outputs": [],
   "source": [
    "price_data.columns = ['interest','vacancy','cpi','price','value']"
   ]
  },
  {
   "cell_type": "code",
   "execution_count": 21,
   "id": "2bba892f",
   "metadata": {},
   "outputs": [
    {
     "data": {
      "text/html": [
       "<div>\n",
       "<style scoped>\n",
       "    .dataframe tbody tr th:only-of-type {\n",
       "        vertical-align: middle;\n",
       "    }\n",
       "\n",
       "    .dataframe tbody tr th {\n",
       "        vertical-align: top;\n",
       "    }\n",
       "\n",
       "    .dataframe thead th {\n",
       "        text-align: right;\n",
       "    }\n",
       "</style>\n",
       "<table border=\"1\" class=\"dataframe\">\n",
       "  <thead>\n",
       "    <tr style=\"text-align: right;\">\n",
       "      <th></th>\n",
       "      <th>interest</th>\n",
       "      <th>vacancy</th>\n",
       "      <th>cpi</th>\n",
       "      <th>price</th>\n",
       "      <th>value</th>\n",
       "    </tr>\n",
       "  </thead>\n",
       "  <tbody>\n",
       "    <tr>\n",
       "      <th>2008-02-02</th>\n",
       "      <td>5.68</td>\n",
       "      <td>10.1</td>\n",
       "      <td>212.174</td>\n",
       "      <td>190000.0</td>\n",
       "      <td>206885.853266</td>\n",
       "    </tr>\n",
       "    <tr>\n",
       "      <th>2008-02-09</th>\n",
       "      <td>5.67</td>\n",
       "      <td>10.1</td>\n",
       "      <td>212.687</td>\n",
       "      <td>190000.0</td>\n",
       "      <td>206885.853266</td>\n",
       "    </tr>\n",
       "    <tr>\n",
       "      <th>2008-02-16</th>\n",
       "      <td>5.72</td>\n",
       "      <td>10.1</td>\n",
       "      <td>212.687</td>\n",
       "      <td>193000.0</td>\n",
       "      <td>206885.853266</td>\n",
       "    </tr>\n",
       "    <tr>\n",
       "      <th>2008-02-23</th>\n",
       "      <td>6.04</td>\n",
       "      <td>10.1</td>\n",
       "      <td>212.687</td>\n",
       "      <td>189900.0</td>\n",
       "      <td>206885.853266</td>\n",
       "    </tr>\n",
       "    <tr>\n",
       "      <th>2008-03-01</th>\n",
       "      <td>6.24</td>\n",
       "      <td>10.1</td>\n",
       "      <td>212.687</td>\n",
       "      <td>194900.0</td>\n",
       "      <td>205459.521952</td>\n",
       "    </tr>\n",
       "    <tr>\n",
       "      <th>...</th>\n",
       "      <td>...</td>\n",
       "      <td>...</td>\n",
       "      <td>...</td>\n",
       "      <td>...</td>\n",
       "      <td>...</td>\n",
       "    </tr>\n",
       "    <tr>\n",
       "      <th>2022-06-11</th>\n",
       "      <td>5.23</td>\n",
       "      <td>5.6</td>\n",
       "      <td>295.328</td>\n",
       "      <td>370000.0</td>\n",
       "      <td>357473.327397</td>\n",
       "    </tr>\n",
       "    <tr>\n",
       "      <th>2022-06-18</th>\n",
       "      <td>5.78</td>\n",
       "      <td>5.6</td>\n",
       "      <td>295.328</td>\n",
       "      <td>375000.0</td>\n",
       "      <td>357473.327397</td>\n",
       "    </tr>\n",
       "    <tr>\n",
       "      <th>2022-06-25</th>\n",
       "      <td>5.81</td>\n",
       "      <td>5.6</td>\n",
       "      <td>295.328</td>\n",
       "      <td>370000.0</td>\n",
       "      <td>357473.327397</td>\n",
       "    </tr>\n",
       "    <tr>\n",
       "      <th>2022-07-02</th>\n",
       "      <td>5.70</td>\n",
       "      <td>5.6</td>\n",
       "      <td>295.328</td>\n",
       "      <td>370000.0</td>\n",
       "      <td>357107.271636</td>\n",
       "    </tr>\n",
       "    <tr>\n",
       "      <th>2022-07-09</th>\n",
       "      <td>5.30</td>\n",
       "      <td>5.6</td>\n",
       "      <td>295.271</td>\n",
       "      <td>362500.0</td>\n",
       "      <td>357107.271636</td>\n",
       "    </tr>\n",
       "  </tbody>\n",
       "</table>\n",
       "<p>735 rows × 5 columns</p>\n",
       "</div>"
      ],
      "text/plain": [
       "            interest  vacancy      cpi     price          value\n",
       "2008-02-02      5.68     10.1  212.174  190000.0  206885.853266\n",
       "2008-02-09      5.67     10.1  212.687  190000.0  206885.853266\n",
       "2008-02-16      5.72     10.1  212.687  193000.0  206885.853266\n",
       "2008-02-23      6.04     10.1  212.687  189900.0  206885.853266\n",
       "2008-03-01      6.24     10.1  212.687  194900.0  205459.521952\n",
       "...              ...      ...      ...       ...            ...\n",
       "2022-06-11      5.23      5.6  295.328  370000.0  357473.327397\n",
       "2022-06-18      5.78      5.6  295.328  375000.0  357473.327397\n",
       "2022-06-25      5.81      5.6  295.328  370000.0  357473.327397\n",
       "2022-07-02      5.70      5.6  295.328  370000.0  357107.271636\n",
       "2022-07-09      5.30      5.6  295.271  362500.0  357107.271636\n",
       "\n",
       "[735 rows x 5 columns]"
      ]
     },
     "execution_count": 21,
     "metadata": {},
     "output_type": "execute_result"
    }
   ],
   "source": [
    "price_data"
   ]
  },
  {
   "cell_type": "markdown",
   "id": "eaf18399",
   "metadata": {},
   "source": [
    "### Data Exploration"
   ]
  },
  {
   "cell_type": "code",
   "execution_count": 36,
   "id": "a1e3ece9",
   "metadata": {},
   "outputs": [
    {
     "name": "stdout",
     "output_type": "stream",
     "text": [
      "1. Shape of Our dataframe is:  (735, 5)\n",
      "\n",
      "2. DataTypes : \n",
      "interest    float64\n",
      "vacancy     float64\n",
      "cpi         float64\n",
      "price        object\n",
      "value        object\n",
      "dtype: object\n",
      "\n",
      "3. Stats \n",
      "         interest     vacancy         cpi\n",
      "count  735.000000  735.000000  735.000000\n",
      "mean     4.156762    7.912517  239.865895\n",
      "std      0.803161    1.555366   18.805475\n",
      "min      2.650000    5.600000  211.398000\n",
      "25%      3.620000    6.800000  226.597000\n",
      "50%      4.040000    7.300000  237.460000\n",
      "75%      4.580000    9.400000  252.551000\n",
      "max      6.630000   11.100000  295.328000\n",
      "\n",
      "4. Are there any NaN or missing values:  False\n"
     ]
    }
   ],
   "source": [
    "print('1. Shape of Our dataframe is: ' ,price_data.shape)\n",
    "print('\\n2. DataTypes : ')\n",
    "print( price_data.dtypes)\n",
    "print('\\n3. Stats ')\n",
    "print(price_data.describe())\n",
    "print('\\n4. Are there any NaN or missing values: ', price_data.isna().sum().any())"
   ]
  },
  {
   "cell_type": "markdown",
   "id": "b1adb55d",
   "metadata": {},
   "source": [
    "Visualizing the data: "
   ]
  },
  {
   "cell_type": "code",
   "execution_count": 37,
   "id": "74d818a0",
   "metadata": {},
   "outputs": [],
   "source": [
    "import matplotlib.pyplot as plt "
   ]
  },
  {
   "cell_type": "code",
   "execution_count": 40,
   "id": "aa32dcc4",
   "metadata": {},
   "outputs": [
    {
     "data": {
      "image/png": "[encoded data removed]",
      "text/plain": [
       "<Figure size 640x480 with 1 Axes>"
      ]
     },
     "metadata": {},
     "output_type": "display_data"
    }
   ],
   "source": [
    "plt.plot(price_data.index, price_data['price'])\n",
    "plt.xlabel('Date')\n",
    "plt.ylabel('Price')\n",
    "plt.title(' House Price over Time (with inflation)')\n",
    "plt.grid(True)\n",
    "plt.show()"
   ]
  },
  {
   "cell_type": "markdown",
   "id": "2e27e3c8",
   "metadata": {},
   "source": [
    "For prediction we don't want to deal with the inflation. So we need to calculated the adjusted price without inflation."
   ]
  },
  {
   "cell_type": "code",
   "execution_count": null,
   "id": "e3045256",
   "metadata": {},
   "outputs": [],
   "source": [
    "price_data['adj_price'] = price_data['price'] / price_data['cpi'] * 100\n",
    "price_data['adj_value'] = price_data['value'] / price_data['cpi'] * 100"
   ]
  },
  {
   "cell_type": "code",
   "execution_count": 42,
   "id": "e5de369d",
   "metadata": {},
   "outputs": [
    {
     "data": {
      "image/png": "[encoded data removed]",
      "text/plain": [
       "<Figure size 640x480 with 1 Axes>"
      ]
     },
     "metadata": {},
     "output_type": "display_data"
    }
   ],
   "source": [
    "plt.plot(price_data.index, price_data['adj_price'])\n",
    "plt.xlabel('Date')\n",
    "plt.ylabel('Price')\n",
    "plt.title(' House Price over Time (without inflation)')\n",
    "plt.grid(True)\n",
    "plt.show()"
   ]
  },
  {
   "cell_type": "markdown",
   "id": "35b9cde1",
   "metadata": {},
   "source": [
    "Data Preprocessing:"
   ]
  },
  {
   "cell_type": "code",
   "execution_count": 45,
   "id": "43bad034",
   "metadata": {},
   "outputs": [],
   "source": [
    "# Target \n",
    "price_data['next_quater'] = price_data['adj_price'].shift(-13)"
   ]
  },
  {
   "cell_type": "code",
   "execution_count": 47,
   "id": "0d859216",
   "metadata": {},
   "outputs": [],
   "source": [
    "price_data.dropna(inplace=True)"
   ]
  },
  {
   "cell_type": "code",
   "execution_count": null,
   "id": "7afd74f7",
   "metadata": {},
   "outputs": [],
   "source": [
    "price_data['change'] = (price_data['next_quater'] > price_data['adj_price']).astype(int)\n",
    "#The final target column"
   ]
  },
  {
   "cell_type": "code",
   "execution_count": null,
   "id": "7260f115",
   "metadata": {},
   "outputs": [
    {
     "data": {
      "text/plain": [
       "change\n",
       "1    379\n",
       "0    343\n",
       "Name: count, dtype: int64"
      ]
     },
     "execution_count": 53,
     "metadata": {},
     "output_type": "execute_result"
    }
   ],
   "source": [
    "price_data['change'].value_counts() # to check data balance"
   ]
  },
  {
   "cell_type": "code",
   "execution_count": 75,
   "id": "90f48c02",
   "metadata": {},
   "outputs": [
    {
     "data": {
      "text/html": [
       "<div>\n",
       "<style scoped>\n",
       "    .dataframe tbody tr th:only-of-type {\n",
       "        vertical-align: middle;\n",
       "    }\n",
       "\n",
       "    .dataframe tbody tr th {\n",
       "        vertical-align: top;\n",
       "    }\n",
       "\n",
       "    .dataframe thead th {\n",
       "        text-align: right;\n",
       "    }\n",
       "</style>\n",
       "<table border=\"1\" class=\"dataframe\">\n",
       "  <thead>\n",
       "    <tr style=\"text-align: right;\">\n",
       "      <th></th>\n",
       "      <th>interest</th>\n",
       "      <th>vacancy</th>\n",
       "      <th>cpi</th>\n",
       "      <th>price</th>\n",
       "      <th>value</th>\n",
       "      <th>adj_price</th>\n",
       "      <th>adj_value</th>\n",
       "      <th>next_quater</th>\n",
       "      <th>change</th>\n",
       "    </tr>\n",
       "  </thead>\n",
       "  <tbody>\n",
       "    <tr>\n",
       "      <th>2008-02-02</th>\n",
       "      <td>5.68</td>\n",
       "      <td>10.1</td>\n",
       "      <td>212.174</td>\n",
       "      <td>190000.0</td>\n",
       "      <td>206885.853266</td>\n",
       "      <td>89549.143627</td>\n",
       "      <td>97507.636782</td>\n",
       "      <td>90610.014498</td>\n",
       "      <td>1</td>\n",
       "    </tr>\n",
       "    <tr>\n",
       "      <th>2008-02-09</th>\n",
       "      <td>5.67</td>\n",
       "      <td>10.1</td>\n",
       "      <td>212.687</td>\n",
       "      <td>190000.0</td>\n",
       "      <td>206885.853266</td>\n",
       "      <td>89333.151533</td>\n",
       "      <td>97272.448841</td>\n",
       "      <td>90563.547824</td>\n",
       "      <td>1</td>\n",
       "    </tr>\n",
       "    <tr>\n",
       "      <th>2008-02-16</th>\n",
       "      <td>5.72</td>\n",
       "      <td>10.1</td>\n",
       "      <td>212.687</td>\n",
       "      <td>193000.0</td>\n",
       "      <td>206885.853266</td>\n",
       "      <td>90743.674978</td>\n",
       "      <td>97272.448841</td>\n",
       "      <td>91014.739229</td>\n",
       "      <td>1</td>\n",
       "    </tr>\n",
       "    <tr>\n",
       "      <th>2008-02-23</th>\n",
       "      <td>6.04</td>\n",
       "      <td>10.1</td>\n",
       "      <td>212.687</td>\n",
       "      <td>189900.0</td>\n",
       "      <td>206885.853266</td>\n",
       "      <td>89286.134084</td>\n",
       "      <td>97272.448841</td>\n",
       "      <td>90610.014498</td>\n",
       "      <td>1</td>\n",
       "    </tr>\n",
       "    <tr>\n",
       "      <th>2008-03-01</th>\n",
       "      <td>6.24</td>\n",
       "      <td>10.1</td>\n",
       "      <td>212.687</td>\n",
       "      <td>194900.0</td>\n",
       "      <td>205459.521952</td>\n",
       "      <td>91637.006493</td>\n",
       "      <td>96601.824254</td>\n",
       "      <td>92933.348203</td>\n",
       "      <td>1</td>\n",
       "    </tr>\n",
       "    <tr>\n",
       "      <th>...</th>\n",
       "      <td>...</td>\n",
       "      <td>...</td>\n",
       "      <td>...</td>\n",
       "      <td>...</td>\n",
       "      <td>...</td>\n",
       "      <td>...</td>\n",
       "      <td>...</td>\n",
       "      <td>...</td>\n",
       "      <td>...</td>\n",
       "    </tr>\n",
       "    <tr>\n",
       "      <th>2022-03-12</th>\n",
       "      <td>3.85</td>\n",
       "      <td>5.8</td>\n",
       "      <td>287.708</td>\n",
       "      <td>350000.0</td>\n",
       "      <td>344042.433111</td>\n",
       "      <td>121651.118495</td>\n",
       "      <td>119580.419422</td>\n",
       "      <td>125284.429516</td>\n",
       "      <td>1</td>\n",
       "    </tr>\n",
       "    <tr>\n",
       "      <th>2022-03-19</th>\n",
       "      <td>4.16</td>\n",
       "      <td>5.8</td>\n",
       "      <td>287.708</td>\n",
       "      <td>350000.0</td>\n",
       "      <td>344042.433111</td>\n",
       "      <td>121651.118495</td>\n",
       "      <td>119580.419422</td>\n",
       "      <td>126977.462347</td>\n",
       "      <td>1</td>\n",
       "    </tr>\n",
       "    <tr>\n",
       "      <th>2022-03-26</th>\n",
       "      <td>4.42</td>\n",
       "      <td>5.8</td>\n",
       "      <td>287.708</td>\n",
       "      <td>355000.0</td>\n",
       "      <td>344042.433111</td>\n",
       "      <td>123388.991617</td>\n",
       "      <td>119580.419422</td>\n",
       "      <td>125284.429516</td>\n",
       "      <td>1</td>\n",
       "    </tr>\n",
       "    <tr>\n",
       "      <th>2022-04-02</th>\n",
       "      <td>4.67</td>\n",
       "      <td>5.8</td>\n",
       "      <td>287.708</td>\n",
       "      <td>360000.0</td>\n",
       "      <td>350515.841789</td>\n",
       "      <td>125126.864738</td>\n",
       "      <td>121830.412011</td>\n",
       "      <td>125284.429516</td>\n",
       "      <td>1</td>\n",
       "    </tr>\n",
       "    <tr>\n",
       "      <th>2022-04-09</th>\n",
       "      <td>4.72</td>\n",
       "      <td>5.6</td>\n",
       "      <td>288.663</td>\n",
       "      <td>365000.0</td>\n",
       "      <td>350515.841789</td>\n",
       "      <td>126445.024128</td>\n",
       "      <td>121427.353623</td>\n",
       "      <td>122768.575309</td>\n",
       "      <td>0</td>\n",
       "    </tr>\n",
       "  </tbody>\n",
       "</table>\n",
       "<p>722 rows × 9 columns</p>\n",
       "</div>"
      ],
      "text/plain": [
       "            interest  vacancy      cpi     price          value  \\\n",
       "2008-02-02      5.68     10.1  212.174  190000.0  206885.853266   \n",
       "2008-02-09      5.67     10.1  212.687  190000.0  206885.853266   \n",
       "2008-02-16      5.72     10.1  212.687  193000.0  206885.853266   \n",
       "2008-02-23      6.04     10.1  212.687  189900.0  206885.853266   \n",
       "2008-03-01      6.24     10.1  212.687  194900.0  205459.521952   \n",
       "...              ...      ...      ...       ...            ...   \n",
       "2022-03-12      3.85      5.8  287.708  350000.0  344042.433111   \n",
       "2022-03-19      4.16      5.8  287.708  350000.0  344042.433111   \n",
       "2022-03-26      4.42      5.8  287.708  355000.0  344042.433111   \n",
       "2022-04-02      4.67      5.8  287.708  360000.0  350515.841789   \n",
       "2022-04-09      4.72      5.6  288.663  365000.0  350515.841789   \n",
       "\n",
       "                adj_price      adj_value    next_quater  change  \n",
       "2008-02-02   89549.143627   97507.636782   90610.014498       1  \n",
       "2008-02-09   89333.151533   97272.448841   90563.547824       1  \n",
       "2008-02-16   90743.674978   97272.448841   91014.739229       1  \n",
       "2008-02-23   89286.134084   97272.448841   90610.014498       1  \n",
       "2008-03-01   91637.006493   96601.824254   92933.348203       1  \n",
       "...                   ...            ...            ...     ...  \n",
       "2022-03-12  121651.118495  119580.419422  125284.429516       1  \n",
       "2022-03-19  121651.118495  119580.419422  126977.462347       1  \n",
       "2022-03-26  123388.991617  119580.419422  125284.429516       1  \n",
       "2022-04-02  125126.864738  121830.412011  125284.429516       1  \n",
       "2022-04-09  126445.024128  121427.353623  122768.575309       0  \n",
       "\n",
       "[722 rows x 9 columns]"
      ]
     },
     "execution_count": 75,
     "metadata": {},
     "output_type": "execute_result"
    }
   ],
   "source": [
    "price_data"
   ]
  },
  {
   "cell_type": "code",
   "execution_count": 61,
   "id": "94453c48",
   "metadata": {},
   "outputs": [
    {
     "data": {
      "image/png": "[encoded data removed]",
      "text/plain": [
       "<Figure size 1000x800 with 2 Axes>"
      ]
     },
     "metadata": {},
     "output_type": "display_data"
    }
   ],
   "source": [
    "import matplotlib.pyplot as plt\n",
    "import seaborn as sns\n",
    "\n",
    "# Calculate correlation matrix\n",
    "corr = price_data.corr()\n",
    "\n",
    "plt.figure(figsize=(10, 8))\n",
    "sns.heatmap(corr, \n",
    "            annot=True,      \n",
    "            fmt=\".2f\",        \n",
    "            cmap=\"coolwarm\",  \n",
    "            linewidths=0.5,  \n",
    "            linecolor='black',   \n",
    "            cbar_kws={\"shrink\": 0.8})  \n",
    "plt.title('Correlation Matrix of Price Data', fontsize=16)\n",
    "plt.show()\n"
   ]
  },
  {
   "cell_type": "code",
   "execution_count": 54,
   "id": "ec14b4e4",
   "metadata": {},
   "outputs": [],
   "source": [
    "predictors = ['interest','vacancy','adj_price','adj_value']\n",
    "target  = 'change'"
   ]
  },
  {
   "cell_type": "markdown",
   "id": "47a8d84b",
   "metadata": {},
   "source": [
    "### Random Forest"
   ]
  },
  {
   "cell_type": "code",
   "execution_count": 62,
   "id": "a5285691",
   "metadata": {},
   "outputs": [],
   "source": [
    "from sklearn.ensemble import RandomForestClassifier \n",
    "from sklearn .metrics import accuracy_score "
   ]
  },
  {
   "cell_type": "code",
   "execution_count": 162,
   "id": "022a8b71",
   "metadata": {},
   "outputs": [],
   "source": [
    "\n",
    "for row in predictors:\n",
    "    price_data[row] = price_data[row].apply(lambda x: float(x))"
   ]
  },
  {
   "cell_type": "code",
   "execution_count": 163,
   "id": "7219999c",
   "metadata": {},
   "outputs": [
    {
     "data": {
      "text/plain": [
       "interest          float64\n",
       "vacancy           float64\n",
       "cpi               float64\n",
       "price              object\n",
       "value              object\n",
       "adj_price         float64\n",
       "adj_value         float64\n",
       "next_quater        object\n",
       "change              int64\n",
       "interest_year     float64\n",
       "vacancy_year      float64\n",
       "adj_price_year     object\n",
       "adj_value_year     object\n",
       "dtype: object"
      ]
     },
     "execution_count": 163,
     "metadata": {},
     "output_type": "execute_result"
    }
   ],
   "source": [
    "price_data.dtypes"
   ]
  },
  {
   "cell_type": "code",
   "execution_count": 171,
   "id": "eb28842f",
   "metadata": {},
   "outputs": [],
   "source": [
    "def predict(train,test,predictors,target):\n",
    "    rf = RandomForestClassifier(\n",
    "    n_estimators=250,           # More trees (default=100), more stability\n",
    "    max_depth=10,               # Limit depth to prevent overfitting\n",
    "    min_samples_split=5,        # Split node if >=5 samples\n",
    "    min_samples_leaf=3,         # Leaf nodes must have at least 3 samples\n",
    "    max_features='sqrt',        # Use sqrt(n_features) at each split (good for classification)\n",
    "    bootstrap=True,             # Use bootstrap sampling\n",
    "    random_state=42,            # Seed for reproducibility\n",
    "    n_jobs=-1                   # Use all CPU cores (faster training)\n",
    "                              )\n",
    "   \n",
    "    rf.fit(train[predictors],train[target])\n",
    "    preds = rf.predict(test[predictors])\n",
    "    return preds   "
   ]
  },
  {
   "cell_type": "markdown",
   "id": "be8d84a6",
   "metadata": {},
   "source": [
    "Be careful while creating train and test spilt in case of time series data. We need to make sure that the test set is always after the training set. "
   ]
  },
  {
   "cell_type": "code",
   "execution_count": 172,
   "id": "a2fb08ff",
   "metadata": {},
   "outputs": [],
   "source": [
    "START = 260\n",
    "STEP  = 52\n",
    "def backtest(data, predictors,target):\n",
    "    all_preds=[]\n",
    "    for i in range(START, data.shape[0],STEP):\n",
    "        train =  price_data.iloc[:i]\n",
    "        test  =  price_data.iloc[i:(i+STEP)]\n",
    "        all_preds.append(predict(train,test,predictors,target))\n",
    "        \n",
    "    preds = np.concatenate(all_preds)\n",
    "    return preds, accuracy_score(data.iloc[START:][target],preds)\n",
    "        "
   ]
  },
  {
   "cell_type": "code",
   "execution_count": 174,
   "id": "2856f234",
   "metadata": {},
   "outputs": [
    {
     "data": {
      "text/plain": [
       "0.6168831168831169"
      ]
     },
     "execution_count": 174,
     "metadata": {},
     "output_type": "execute_result"
    }
   ],
   "source": [
    "preds, accuracy = backtest(price_data, predictors, target)\n",
    "accuracy\n"
   ]
  },
  {
   "cell_type": "code",
   "execution_count": 83,
   "id": "3c8ed6dd",
   "metadata": {},
   "outputs": [],
   "source": [
    "yearly = price_data.rolling(52, min_periods=1).mean()"
   ]
  },
  {
   "cell_type": "code",
   "execution_count": 104,
   "id": "24de4860",
   "metadata": {},
   "outputs": [],
   "source": [
    "yearly_ratios = [p + '_year' for p in predictors]\n",
    "price_data[yearly_ratios] = price_data[predictors]/yearly[predictors]"
   ]
  },
  {
   "cell_type": "code",
   "execution_count": 145,
   "id": "67c7d3ae",
   "metadata": {},
   "outputs": [
    {
     "data": {
      "text/plain": [
       "0.6645021645021645"
      ]
     },
     "execution_count": 145,
     "metadata": {},
     "output_type": "execute_result"
    }
   ],
   "source": [
    "preds,accuracy = backtest(price_data, predictors + yearly_ratios, target)\n",
    "accuracy"
   ]
  },
  {
   "cell_type": "markdown",
   "id": "cec5cee4",
   "metadata": {},
   "source": [
    "### output visualization \n"
   ]
  },
  {
   "cell_type": "code",
   "execution_count": 111,
   "id": "62ef51f5",
   "metadata": {},
   "outputs": [],
   "source": [
    "pred_match = (preds == price_data[target].iloc[START:])"
   ]
  },
  {
   "cell_type": "code",
   "execution_count": 112,
   "id": "79acceee",
   "metadata": {},
   "outputs": [
    {
     "name": "stderr",
     "output_type": "stream",
     "text": [
      "C:\\Users\\sachi\\AppData\\Local\\Temp\\ipykernel_26760\\1288418236.py:1: FutureWarning: Setting an item of incompatible dtype is deprecated and will raise an error in a future version of pandas. Value 'green' has dtype incompatible with bool, please explicitly cast to a compatible dtype first.\n",
      "  pred_match[ pred_match== True ] = 'green'\n"
     ]
    }
   ],
   "source": [
    "pred_match[ pred_match== True ] = 'green'\n",
    "pred_match[ pred_match== False] = 'red'"
   ]
  },
  {
   "cell_type": "code",
   "execution_count": 122,
   "id": "8fb50a22",
   "metadata": {},
   "outputs": [
    {
     "data": {
      "image/png": "[encoded data removed]",
      "text/plain": [
       "<Figure size 1400x600 with 1 Axes>"
      ]
     },
     "metadata": {},
     "output_type": "display_data"
    }
   ],
   "source": [
    "# Prepare the data\n",
    "plot_data = price_data.iloc[START:].copy()\n",
    "plot_data = plot_data.reset_index()\n",
    "\n",
    "\n",
    "plt.figure(figsize=(14,6))\n",
    "plt.style.use('seaborn-v0_8-whitegrid')\n",
    "plt.scatter(\n",
    "    x=plot_data['index'],\n",
    "    y=plot_data['adj_price'],\n",
    "    c=pred_match,   # color each point by prediction match\n",
    "    edgecolor='k', \n",
    "    alpha=0.8        \n",
    ")\n",
    "\n",
    "\n",
    "plt.title('Adjusted Price Over Time', fontsize=18)\n",
    "plt.xlabel('Date', fontsize=14)\n",
    "plt.ylabel('Adjusted Price', fontsize=14)\n",
    "\n",
    "plt.xticks(rotation=45)\n",
    "plt.tight_layout()\n",
    "\n",
    "# Show the plot\n",
    "plt.show()\n"
   ]
  },
  {
   "cell_type": "code",
   "execution_count": 123,
   "id": "662e7557",
   "metadata": {},
   "outputs": [],
   "source": [
    "# finding feature importance\n",
    "from sklearn.inspection import permutation_importance \n",
    "\n",
    "rf =  RandomForestClassifier(min_samples_split=10, random_state=43)\n",
    "rf.fit(price_data[predictors], price_data[target])\n",
    "\n",
    "result = permutation_importance(rf, price_data[predictors], price_data[target], n_repeats = 10, random_state =43)"
   ]
  },
  {
   "cell_type": "code",
   "execution_count": 124,
   "id": "bd4184e5",
   "metadata": {},
   "outputs": [
    {
     "data": {
      "text/plain": [
       "array([0.17936288, 0.17562327, 0.27880886, 0.31177285])"
      ]
     },
     "execution_count": 124,
     "metadata": {},
     "output_type": "execute_result"
    }
   ],
   "source": [
    "result['importances_mean']"
   ]
  },
  {
   "cell_type": "code",
   "execution_count": null,
   "id": "105aeb84",
   "metadata": {},
   "outputs": [],
   "source": []
  },
  {
   "cell_type": "code",
   "execution_count": null,
   "id": "19e868a5",
   "metadata": {},
   "outputs": [],
   "source": []
  }
 ],
 "metadata": {
  "kernelspec": {
   "display_name": "house",
   "language": "python",
   "name": "python3"
  },
  "language_info": {
   "codemirror_mode": {
    "name": "ipython",
    "version": 3
   },
   "file_extension": ".py",
   "mimetype": "text/x-python",
   "name": "python",
   "nbconvert_exporter": "python",
   "pygments_lexer": "ipython3",
   "version": "3.12.10"
  }
 },
 "nbformat": 4,
 "nbformat_minor": 5
}
