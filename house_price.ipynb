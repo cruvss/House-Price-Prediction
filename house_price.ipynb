{
 "cells": [
  {
   "cell_type": "markdown",
   "metadata": {},
   "source": [
    "# \n",
    "<h1 style=\"font-size:300%; color:tomato; font-family:cursive;\">Nepali House Price Prediction</h1>"
   ]
  },
  {
   "cell_type": "markdown",
   "metadata": {},
   "source": [
    "The goal of this project is to learn about data pre-processing, feature engineering, and model building. I will be using the dataset from [Kaggle](https://www.kaggle.com/datasets/sagyamthapa/nepali-housing-price-dataset/data) which i felt is one of the challenging dataset which truly represents real-world noise. This notebook won’t explain the steps I take, as I have prepared a separate notebook for that.\n",
    "\n",
    "\n",
    "\n",
    "\n",
    "\n",
    "\n",
    "\n"
   ]
  },
  {
   "cell_type": "markdown",
   "metadata": {},
   "source": [
    "# 1. Data Exploration"
   ]
  },
  {
   "cell_type": "code",
   "execution_count": 189,
   "metadata": {},
   "outputs": [],
   "source": [
    "import pandas as pd\n",
    "import matplotlib.pyplot as plt\n",
    "import numpy as np\n",
    "import ast"
   ]
  },
  {
   "cell_type": "code",
   "execution_count": 190,
   "metadata": {},
   "outputs": [],
   "source": [
    "data = pd.read_csv('2020-4-27.csv') # read data from csv file"
   ]
  },
  {
   "cell_type": "code",
   "execution_count": null,
   "metadata": {},
   "outputs": [],
   "source": [
    "data.head(2)"
   ]
  },
  {
   "cell_type": "code",
   "execution_count": null,
   "metadata": {},
   "outputs": [],
   "source": [
    "print(f\" Columns in dataset: \\n{data.columns}. \\n Number of columns: {len(data.columns)}\")\n"
   ]
  },
  {
   "cell_type": "code",
   "execution_count": null,
   "metadata": {},
   "outputs": [],
   "source": [
    "data.info()"
   ]
  },
  {
   "cell_type": "code",
   "execution_count": null,
   "metadata": {},
   "outputs": [],
   "source": [
    "data.shape # shape of the data"
   ]
  },
  {
   "cell_type": "code",
   "execution_count": null,
   "metadata": {},
   "outputs": [],
   "source": [
    "data.index # index of the data"
   ]
  },
  {
   "cell_type": "code",
   "execution_count": null,
   "metadata": {},
   "outputs": [],
   "source": [
    "data.isna().sum() # check for missing values"
   ]
  },
  {
   "cell_type": "code",
   "execution_count": null,
   "metadata": {},
   "outputs": [],
   "source": [
    "data['Year'].corr(data['Price']) #As there was more missing values is \"year \" so checking how important is this column as our goal is yto predict the price"
   ]
  },
  {
   "cell_type": "code",
   "execution_count": null,
   "metadata": {},
   "outputs": [],
   "source": [
    "data.sort_values(\"Year\", ascending=True).head(3)"
   ]
  },
  {
   "cell_type": "code",
   "execution_count": null,
   "metadata": {},
   "outputs": [],
   "source": [
    "data[data['Year'].isna() | data['Floors'].isna()][['Year','Floors']] # checking missing values"
   ]
  },
  {
   "cell_type": "code",
   "execution_count": null,
   "metadata": {},
   "outputs": [],
   "source": [
    "data['Year'].mean()"
   ]
  },
  {
   "cell_type": "markdown",
   "metadata": {},
   "source": [
    "# 2. Data Cleaning and Transformations"
   ]
  },
  {
   "cell_type": "code",
   "execution_count": 201,
   "metadata": {},
   "outputs": [],
   "source": [
    "year_constant = data['Year'].mean().round(0)\n"
   ]
  },
  {
   "cell_type": "code",
   "execution_count": 202,
   "metadata": {},
   "outputs": [],
   "source": [
    "floor_constant = data['Floors'].mean().round(0) "
   ]
  },
  {
   "cell_type": "markdown",
   "metadata": {},
   "source": [
    "## 2.1. Handling Missing Values"
   ]
  },
  {
   "cell_type": "code",
   "execution_count": 203,
   "metadata": {},
   "outputs": [],
   "source": [
    "#filling missing value of year wiht mean value\n",
    "\n",
    "data['Year'] = data['Year'].fillna(year_constant)"
   ]
  },
  {
   "cell_type": "code",
   "execution_count": 204,
   "metadata": {},
   "outputs": [],
   "source": [
    "# filling missing vlue of floor with mean value\n",
    "data['Floors'] = data['Floors'].fillna(floor_constant)"
   ]
  },
  {
   "cell_type": "code",
   "execution_count": 205,
   "metadata": {},
   "outputs": [],
   "source": [
    "# handling road type column by dropping it\n",
    "data.drop('Road Type', axis=1, inplace=True) # droping column"
   ]
  },
  {
   "cell_type": "code",
   "execution_count": null,
   "metadata": {},
   "outputs": [],
   "source": [
    "data.isna().sum()"
   ]
  },
  {
   "cell_type": "markdown",
   "metadata": {},
   "source": [
    "## 2.2 Dropping Unnecessary Columns"
   ]
  },
  {
   "cell_type": "code",
   "execution_count": null,
   "metadata": {},
   "outputs": [],
   "source": [
    "data.head(2)"
   ]
  },
  {
   "cell_type": "code",
   "execution_count": 208,
   "metadata": {},
   "outputs": [],
   "source": [
    "temp = data.pop('Title') # poping out the title column which might be needed for resolving otyher missing values"
   ]
  },
  {
   "cell_type": "code",
   "execution_count": 209,
   "metadata": {},
   "outputs": [],
   "source": [
    "columns_to_drop = ['Address', 'Views', 'Posted','Road']"
   ]
  },
  {
   "cell_type": "code",
   "execution_count": 210,
   "metadata": {},
   "outputs": [],
   "source": [
    "data.drop(columns_to_drop, axis=1, inplace=True)"
   ]
  },
  {
   "cell_type": "code",
   "execution_count": null,
   "metadata": {},
   "outputs": [],
   "source": [
    "data.head()"
   ]
  },
  {
   "cell_type": "code",
   "execution_count": 212,
   "metadata": {},
   "outputs": [],
   "source": [
    "temp = set()\n",
    "\n",
    "for amenities in data['Amenities']:\n",
    "    # Remove the brackets and split by comma\n",
    "    amenities_list = amenities.strip('[]').replace(\"'\", \"\").split(',')\n",
    "    # Strip whitespace and add each cleaned item to the set\n",
    "    temp.update(item.strip() for item in amenities_list)\n",
    "\n",
    "temp = list(temp)\n",
    "temp = temp[1:]"
   ]
  },
  {
   "cell_type": "markdown",
   "metadata": {},
   "source": [
    "## 2.3 Handling Ameneities columnn"
   ]
  },
  {
   "cell_type": "code",
   "execution_count": 213,
   "metadata": {},
   "outputs": [],
   "source": [
    "data['Amenities'] = data['Amenities'].apply(ast.literal_eval)\n",
    "\n",
    "# Create dummy variables for each unique amenity\n",
    "amenities_dummies = pd.get_dummies(data['Amenities'].apply(pd.Series).stack()).groupby(level=0).sum()\n",
    "\n",
    "# Concatenate the original dataframe with the dummy variables\n",
    "data = pd.concat([data, amenities_dummies], axis=1)\n",
    "\n",
    "data = data.drop('Amenities', axis=1)"
   ]
  },
  {
   "cell_type": "markdown",
   "metadata": {},
   "source": [
    "## 2.4 Convert Road Width column to Meter"
   ]
  },
  {
   "cell_type": "code",
   "execution_count": 214,
   "metadata": {},
   "outputs": [],
   "source": [
    "def convert_to_meters(value):\n",
    "    value = value.strip().lower()\n",
    "    if 'feet' in value:\n",
    "        # Extract numeric part and convert to meters\n",
    "        feet = float(value.replace('feet', '').strip())\n",
    "        return round(feet * 0.3048, 2)  # Convert to meters and round to 2 decimal places\n",
    "    elif 'meter' in value:\n",
    "        # Extract numeric part (already in meters)\n",
    "        meters = float(value.replace('meter', '').strip())\n",
    "        return round(meters, 2)\n",
    "    else:\n",
    "        # Handle cases without units (assuming it's in feet and convert to meters)\n",
    "        feet = float(value)\n",
    "        return round(feet * 0.3048, 2)\n",
    "\n",
    "# Apply the function to the 'Road Width' column\n",
    "data['Road Width'] = data['Road Width'].apply(convert_to_meters)"
   ]
  },
  {
   "cell_type": "markdown",
   "metadata": {},
   "source": [
    "## 2.5 Handling Face column"
   ]
  },
  {
   "cell_type": "code",
   "execution_count": 215,
   "metadata": {},
   "outputs": [],
   "source": [
    "face_dummies= pd.get_dummies(data['Face']).astype(int)\n",
    "data = pd.concat([data, face_dummies], axis=1)\n",
    "data = data.drop('Face', axis=1)\n",
    "\n"
   ]
  },
  {
   "cell_type": "markdown",
   "metadata": {},
   "source": [
    "## 2.6 Handling Area and Build Area column"
   ]
  },
  {
   "cell_type": "code",
   "execution_count": 216,
   "metadata": {},
   "outputs": [],
   "source": [
    "\n",
    "import pandas as pd\n",
    "import numpy as np\n",
    "import re\n",
    "\n",
    "def convert_to_aana(value):\n",
    "    \"\"\"Convert various area units to Aana\"\"\"\n",
    "    # Constants for conversion\n",
    "    ROPANI_TO_AANA = 16  # 1 Ropani = 16 Aana\n",
    "    SQFT_TO_AANA = 0.00795  # 1 Sq. Feet ≈ 0.00795 Aana\n",
    "    KATTHA_TO_AANA = 13.31  # 1 Kattha ≈ 13.31 Aana\n",
    "    DHUR_TO_AANA = 0.83  # 1 Dhur ≈ 0.83 Aana\n",
    "    BIGHA_TO_AANA = 399.3  # 1 Bigha ≈ 399.3 Aana\n",
    "    \n",
    "    if pd.isna(value) or value == 'dont know Sq. Feet':\n",
    "        return np.nan\n",
    "        \n",
    "    value = str(value).strip().lower()\n",
    "    \n",
    "    # Handle direct Aana measurements\n",
    "    if 'aana' in value and not any(unit in value for unit in ['ropani', 'sq. feet', 'kattha', 'dhur', 'bigha']):\n",
    "        \n",
    "        cleaned = value.replace('aana', '').replace('ana', '').strip()\n",
    "        try:\n",
    "            return float(cleaned)\n",
    "        except ValueError:\n",
    "            # Handle complex Aana format (e.g., \"0-21-0-0 Aana\")\n",
    "            parts = cleaned.split('-')\n",
    "            if len(parts) == 4:\n",
    "                try:\n",
    "                    total = (float(parts[0]) * 16) + float(parts[1]) + (float(parts[2]) / 4) + (float(parts[3]) / 16)\n",
    "                    return total\n",
    "                except ValueError:\n",
    "                    return np.nan\n",
    "    \n",
    "    # Handle Ropani\n",
    "    if 'ropani' in value:\n",
    "        cleaned = value.replace('ropani', '').strip()\n",
    "        try:\n",
    "            return float(cleaned) * ROPANI_TO_AANA\n",
    "        except ValueError:\n",
    "            parts = cleaned.split('-')\n",
    "            if len(parts) == 4:\n",
    "                try:\n",
    "                    total = (float(parts[0]) * ROPANI_TO_AANA) + float(parts[1]) + (float(parts[2]) / 4) + (float(parts[3]) / 16)\n",
    "                    return total\n",
    "                except ValueError:\n",
    "                    return np.nan\n",
    "    \n",
    "    # Handle Square Feet\n",
    "    if 'sq. feet' in value:\n",
    "        try:\n",
    "            number = float(re.findall(r'\\d+', value)[0])\n",
    "            return number * SQFT_TO_AANA\n",
    "        except (ValueError, IndexError):\n",
    "            return np.nan\n",
    "    \n",
    "    # Handle Kattha\n",
    "    if 'kattha' in value:\n",
    "        cleaned = value.replace('kattha', '').strip()\n",
    "        try:\n",
    "            return float(cleaned) * KATTHA_TO_AANA\n",
    "        except ValueError:\n",
    "            return np.nan\n",
    "    \n",
    "    # Handle Dhur\n",
    "    if 'dhur' in value:\n",
    "        cleaned = value.replace('dhur', '').strip()\n",
    "        try:\n",
    "            return float(cleaned) * DHUR_TO_AANA\n",
    "        except ValueError:\n",
    "            return np.nan\n",
    "            \n",
    "    # Handle Bigha\n",
    "    if 'bigha' in value:\n",
    "        cleaned = value.replace('bigha', '').strip()\n",
    "        try:\n",
    "            return float(cleaned) * BIGHA_TO_AANA\n",
    "        except ValueError:\n",
    "            return np.nan\n",
    "            \n",
    "    # Handle Haat (convert to sq feet first, then to Aana)\n",
    "    if 'haat' in value:\n",
    "        try:\n",
    "            dimensions = re.findall(r'\\d+', value)\n",
    "            if len(dimensions) == 2:\n",
    "                sq_feet = float(dimensions[0]) * float(dimensions[1])\n",
    "                return sq_feet * SQFT_TO_AANA\n",
    "        except (ValueError, IndexError):\n",
    "            return np.nan\n",
    "    \n",
    "    return np.nan\n",
    "\n",
    "\n",
    "# Create new columns for cleaned values\n",
    "data['Area'] = data['Area'].apply(convert_to_aana)\n",
    "    \n"
   ]
  },
  {
   "cell_type": "code",
   "execution_count": null,
   "metadata": {},
   "outputs": [],
   "source": [
    "data.drop('Build Area', axis=1, inplace=True)"
   ]
  },
  {
   "cell_type": "code",
   "execution_count": 226,
   "metadata": {},
   "outputs": [],
   "source": [
    "data['Area'] = data['Area'].fillna(0)"
   ]
  },
  {
   "cell_type": "code",
   "execution_count": null,
   "metadata": {},
   "outputs": [],
   "source": [
    "data = data[data['Area'] != 0]"
   ]
  },
  {
   "cell_type": "markdown",
   "metadata": {},
   "source": [
    "## 2.7 Handling Price column"
   ]
  },
  {
   "cell_type": "code",
   "execution_count": 241,
   "metadata": {},
   "outputs": [
    {
     "name": "stdout",
     "output_type": "stream",
     "text": [
      "Outliers:\n",
      " 0\n"
     ]
    }
   ],
   "source": [
    "# Calculate Q1, Q3, and IQR\n",
    "Q1 = data['Price'].quantile(0.25)\n",
    "Q3 = data['Price'].quantile(0.75)\n",
    "IQR = Q3 - Q1\n",
    "\n",
    "# Define outlier range\n",
    "lower_bound = Q1 - 1.5 * IQR\n",
    "upper_bound = Q3 + 1.5 * IQR\n",
    "\n",
    "# Identify outliers\n",
    "outliers = data[(data['Price'] < lower_bound) | (data['Price'] > upper_bound)]\n",
    "print(\"Outliers:\\n\", len(outliers['Price']))\n",
    "\n"
   ]
  },
  {
   "cell_type": "code",
   "execution_count": null,
   "metadata": {},
   "outputs": [],
   "source": [
    "data['Price'] = data['Price'].clip(lower=lower_bound, upper=upper_bound)"
   ]
  },
  {
   "cell_type": "code",
   "execution_count": 240,
   "metadata": {},
   "outputs": [
    {
     "data": {
      "text/html": [
       "<div>\n",
       "<style scoped>\n",
       "    .dataframe tbody tr th:only-of-type {\n",
       "        vertical-align: middle;\n",
       "    }\n",
       "\n",
       "    .dataframe tbody tr th {\n",
       "        vertical-align: top;\n",
       "    }\n",
       "\n",
       "    .dataframe thead th {\n",
       "        text-align: right;\n",
       "    }\n",
       "</style>\n",
       "<table border=\"1\" class=\"dataframe\">\n",
       "  <thead>\n",
       "    <tr style=\"text-align: right;\">\n",
       "      <th></th>\n",
       "      <th>City</th>\n",
       "      <th>Price</th>\n",
       "      <th>Bedroom</th>\n",
       "      <th>Bathroom</th>\n",
       "      <th>Floors</th>\n",
       "      <th>Parking</th>\n",
       "      <th>Year</th>\n",
       "      <th>Area</th>\n",
       "      <th>Road Width</th>\n",
       "      <th>Air Condition</th>\n",
       "      <th>...</th>\n",
       "      <th>Water Well</th>\n",
       "      <th>Wifi</th>\n",
       "      <th>East</th>\n",
       "      <th>North</th>\n",
       "      <th>North East</th>\n",
       "      <th>North West</th>\n",
       "      <th>South</th>\n",
       "      <th>South East</th>\n",
       "      <th>South West</th>\n",
       "      <th>West</th>\n",
       "    </tr>\n",
       "  </thead>\n",
       "  <tbody>\n",
       "    <tr>\n",
       "      <th>0</th>\n",
       "      <td>Kathmandu</td>\n",
       "      <td>65550000</td>\n",
       "      <td>6</td>\n",
       "      <td>3</td>\n",
       "      <td>2.0</td>\n",
       "      <td>10</td>\n",
       "      <td>2073.0</td>\n",
       "      <td>16.00</td>\n",
       "      <td>6.10</td>\n",
       "      <td>0.0</td>\n",
       "      <td>...</td>\n",
       "      <td>1.0</td>\n",
       "      <td>1.0</td>\n",
       "      <td>0</td>\n",
       "      <td>0</td>\n",
       "      <td>0</td>\n",
       "      <td>0</td>\n",
       "      <td>0</td>\n",
       "      <td>0</td>\n",
       "      <td>0</td>\n",
       "      <td>1</td>\n",
       "    </tr>\n",
       "    <tr>\n",
       "      <th>1</th>\n",
       "      <td>Kathmandu</td>\n",
       "      <td>65550000</td>\n",
       "      <td>5</td>\n",
       "      <td>3</td>\n",
       "      <td>2.0</td>\n",
       "      <td>9</td>\n",
       "      <td>2073.0</td>\n",
       "      <td>21.00</td>\n",
       "      <td>6.10</td>\n",
       "      <td>0.0</td>\n",
       "      <td>...</td>\n",
       "      <td>1.0</td>\n",
       "      <td>1.0</td>\n",
       "      <td>1</td>\n",
       "      <td>0</td>\n",
       "      <td>0</td>\n",
       "      <td>0</td>\n",
       "      <td>0</td>\n",
       "      <td>0</td>\n",
       "      <td>0</td>\n",
       "      <td>0</td>\n",
       "    </tr>\n",
       "    <tr>\n",
       "      <th>2</th>\n",
       "      <td>Kathmandu</td>\n",
       "      <td>65550000</td>\n",
       "      <td>5</td>\n",
       "      <td>3</td>\n",
       "      <td>2.0</td>\n",
       "      <td>12</td>\n",
       "      <td>2071.0</td>\n",
       "      <td>17.00</td>\n",
       "      <td>6.10</td>\n",
       "      <td>0.0</td>\n",
       "      <td>...</td>\n",
       "      <td>1.0</td>\n",
       "      <td>1.0</td>\n",
       "      <td>1</td>\n",
       "      <td>0</td>\n",
       "      <td>0</td>\n",
       "      <td>0</td>\n",
       "      <td>0</td>\n",
       "      <td>0</td>\n",
       "      <td>0</td>\n",
       "      <td>0</td>\n",
       "    </tr>\n",
       "    <tr>\n",
       "      <th>3</th>\n",
       "      <td>Kathmandu</td>\n",
       "      <td>65550000</td>\n",
       "      <td>6</td>\n",
       "      <td>4</td>\n",
       "      <td>3.0</td>\n",
       "      <td>9</td>\n",
       "      <td>2017.0</td>\n",
       "      <td>10.25</td>\n",
       "      <td>6.10</td>\n",
       "      <td>0.0</td>\n",
       "      <td>...</td>\n",
       "      <td>1.0</td>\n",
       "      <td>1.0</td>\n",
       "      <td>0</td>\n",
       "      <td>0</td>\n",
       "      <td>0</td>\n",
       "      <td>0</td>\n",
       "      <td>0</td>\n",
       "      <td>0</td>\n",
       "      <td>0</td>\n",
       "      <td>1</td>\n",
       "    </tr>\n",
       "    <tr>\n",
       "      <th>4</th>\n",
       "      <td>Kathmandu</td>\n",
       "      <td>65550000</td>\n",
       "      <td>6</td>\n",
       "      <td>3</td>\n",
       "      <td>2.0</td>\n",
       "      <td>10</td>\n",
       "      <td>2070.0</td>\n",
       "      <td>19.50</td>\n",
       "      <td>6.10</td>\n",
       "      <td>0.0</td>\n",
       "      <td>...</td>\n",
       "      <td>1.0</td>\n",
       "      <td>1.0</td>\n",
       "      <td>1</td>\n",
       "      <td>0</td>\n",
       "      <td>0</td>\n",
       "      <td>0</td>\n",
       "      <td>0</td>\n",
       "      <td>0</td>\n",
       "      <td>0</td>\n",
       "      <td>0</td>\n",
       "    </tr>\n",
       "    <tr>\n",
       "      <th>...</th>\n",
       "      <td>...</td>\n",
       "      <td>...</td>\n",
       "      <td>...</td>\n",
       "      <td>...</td>\n",
       "      <td>...</td>\n",
       "      <td>...</td>\n",
       "      <td>...</td>\n",
       "      <td>...</td>\n",
       "      <td>...</td>\n",
       "      <td>...</td>\n",
       "      <td>...</td>\n",
       "      <td>...</td>\n",
       "      <td>...</td>\n",
       "      <td>...</td>\n",
       "      <td>...</td>\n",
       "      <td>...</td>\n",
       "      <td>...</td>\n",
       "      <td>...</td>\n",
       "      <td>...</td>\n",
       "      <td>...</td>\n",
       "      <td>...</td>\n",
       "    </tr>\n",
       "    <tr>\n",
       "      <th>2206</th>\n",
       "      <td>Kathmandu</td>\n",
       "      <td>500000</td>\n",
       "      <td>5</td>\n",
       "      <td>5</td>\n",
       "      <td>3.0</td>\n",
       "      <td>5</td>\n",
       "      <td>2058.0</td>\n",
       "      <td>16.00</td>\n",
       "      <td>4.88</td>\n",
       "      <td>0.0</td>\n",
       "      <td>...</td>\n",
       "      <td>0.0</td>\n",
       "      <td>0.0</td>\n",
       "      <td>0</td>\n",
       "      <td>0</td>\n",
       "      <td>1</td>\n",
       "      <td>0</td>\n",
       "      <td>0</td>\n",
       "      <td>0</td>\n",
       "      <td>0</td>\n",
       "      <td>0</td>\n",
       "    </tr>\n",
       "    <tr>\n",
       "      <th>2207</th>\n",
       "      <td>Kathmandu</td>\n",
       "      <td>12000000</td>\n",
       "      <td>4</td>\n",
       "      <td>2</td>\n",
       "      <td>2.0</td>\n",
       "      <td>1</td>\n",
       "      <td>2058.0</td>\n",
       "      <td>2.50</td>\n",
       "      <td>3.96</td>\n",
       "      <td>0.0</td>\n",
       "      <td>...</td>\n",
       "      <td>0.0</td>\n",
       "      <td>0.0</td>\n",
       "      <td>0</td>\n",
       "      <td>0</td>\n",
       "      <td>1</td>\n",
       "      <td>0</td>\n",
       "      <td>0</td>\n",
       "      <td>0</td>\n",
       "      <td>0</td>\n",
       "      <td>0</td>\n",
       "    </tr>\n",
       "    <tr>\n",
       "      <th>2208</th>\n",
       "      <td>Kathmandu</td>\n",
       "      <td>27000000</td>\n",
       "      <td>5</td>\n",
       "      <td>3</td>\n",
       "      <td>2.0</td>\n",
       "      <td>1</td>\n",
       "      <td>2071.0</td>\n",
       "      <td>8.00</td>\n",
       "      <td>3.66</td>\n",
       "      <td>0.0</td>\n",
       "      <td>...</td>\n",
       "      <td>0.0</td>\n",
       "      <td>0.0</td>\n",
       "      <td>1</td>\n",
       "      <td>0</td>\n",
       "      <td>0</td>\n",
       "      <td>0</td>\n",
       "      <td>0</td>\n",
       "      <td>0</td>\n",
       "      <td>0</td>\n",
       "      <td>0</td>\n",
       "    </tr>\n",
       "    <tr>\n",
       "      <th>2209</th>\n",
       "      <td>Kathmandu</td>\n",
       "      <td>300000</td>\n",
       "      <td>9</td>\n",
       "      <td>3</td>\n",
       "      <td>2.0</td>\n",
       "      <td>4</td>\n",
       "      <td>2058.0</td>\n",
       "      <td>51.00</td>\n",
       "      <td>3.96</td>\n",
       "      <td>0.0</td>\n",
       "      <td>...</td>\n",
       "      <td>0.0</td>\n",
       "      <td>0.0</td>\n",
       "      <td>0</td>\n",
       "      <td>1</td>\n",
       "      <td>0</td>\n",
       "      <td>0</td>\n",
       "      <td>0</td>\n",
       "      <td>0</td>\n",
       "      <td>0</td>\n",
       "      <td>0</td>\n",
       "    </tr>\n",
       "    <tr>\n",
       "      <th>2210</th>\n",
       "      <td>Kathmandu</td>\n",
       "      <td>65550000</td>\n",
       "      <td>5</td>\n",
       "      <td>2</td>\n",
       "      <td>3.0</td>\n",
       "      <td>5</td>\n",
       "      <td>2058.0</td>\n",
       "      <td>13.00</td>\n",
       "      <td>3.66</td>\n",
       "      <td>0.0</td>\n",
       "      <td>...</td>\n",
       "      <td>0.0</td>\n",
       "      <td>0.0</td>\n",
       "      <td>1</td>\n",
       "      <td>0</td>\n",
       "      <td>0</td>\n",
       "      <td>0</td>\n",
       "      <td>0</td>\n",
       "      <td>0</td>\n",
       "      <td>0</td>\n",
       "      <td>0</td>\n",
       "    </tr>\n",
       "  </tbody>\n",
       "</table>\n",
       "<p>2102 rows × 50 columns</p>\n",
       "</div>"
      ],
      "text/plain": [
       "           City     Price  Bedroom  Bathroom  Floors  Parking    Year   Area  \\\n",
       "0     Kathmandu  65550000        6         3     2.0       10  2073.0  16.00   \n",
       "1     Kathmandu  65550000        5         3     2.0        9  2073.0  21.00   \n",
       "2     Kathmandu  65550000        5         3     2.0       12  2071.0  17.00   \n",
       "3     Kathmandu  65550000        6         4     3.0        9  2017.0  10.25   \n",
       "4     Kathmandu  65550000        6         3     2.0       10  2070.0  19.50   \n",
       "...         ...       ...      ...       ...     ...      ...     ...    ...   \n",
       "2206  Kathmandu    500000        5         5     3.0        5  2058.0  16.00   \n",
       "2207  Kathmandu  12000000        4         2     2.0        1  2058.0   2.50   \n",
       "2208  Kathmandu  27000000        5         3     2.0        1  2071.0   8.00   \n",
       "2209  Kathmandu    300000        9         3     2.0        4  2058.0  51.00   \n",
       "2210  Kathmandu  65550000        5         2     3.0        5  2058.0  13.00   \n",
       "\n",
       "      Road Width  Air Condition  ...  Water Well  Wifi  East  North  \\\n",
       "0           6.10            0.0  ...         1.0   1.0     0      0   \n",
       "1           6.10            0.0  ...         1.0   1.0     1      0   \n",
       "2           6.10            0.0  ...         1.0   1.0     1      0   \n",
       "3           6.10            0.0  ...         1.0   1.0     0      0   \n",
       "4           6.10            0.0  ...         1.0   1.0     1      0   \n",
       "...          ...            ...  ...         ...   ...   ...    ...   \n",
       "2206        4.88            0.0  ...         0.0   0.0     0      0   \n",
       "2207        3.96            0.0  ...         0.0   0.0     0      0   \n",
       "2208        3.66            0.0  ...         0.0   0.0     1      0   \n",
       "2209        3.96            0.0  ...         0.0   0.0     0      1   \n",
       "2210        3.66            0.0  ...         0.0   0.0     1      0   \n",
       "\n",
       "      North East  North West  South  South East  South West  West  \n",
       "0              0           0      0           0           0     1  \n",
       "1              0           0      0           0           0     0  \n",
       "2              0           0      0           0           0     0  \n",
       "3              0           0      0           0           0     1  \n",
       "4              0           0      0           0           0     0  \n",
       "...          ...         ...    ...         ...         ...   ...  \n",
       "2206           1           0      0           0           0     0  \n",
       "2207           1           0      0           0           0     0  \n",
       "2208           0           0      0           0           0     0  \n",
       "2209           0           0      0           0           0     0  \n",
       "2210           0           0      0           0           0     0  \n",
       "\n",
       "[2102 rows x 50 columns]"
      ]
     },
     "execution_count": 240,
     "metadata": {},
     "output_type": "execute_result"
    }
   ],
   "source": [
    "data"
   ]
  },
  {
   "cell_type": "code",
   "execution_count": null,
   "metadata": {},
   "outputs": [],
   "source": []
  }
 ],
 "metadata": {
  "kernelspec": {
   "display_name": "house",
   "language": "python",
   "name": "python3"
  },
  "language_info": {
   "codemirror_mode": {
    "name": "ipython",
    "version": 3
   },
   "file_extension": ".py",
   "mimetype": "text/x-python",
   "name": "python",
   "nbconvert_exporter": "python",
   "pygments_lexer": "ipython3",
   "version": "3.9.21"
  }
 },
 "nbformat": 4,
 "nbformat_minor": 2
}
