{
 "cells": [
  {
   "cell_type": "markdown",
   "metadata": {},
   "source": [
    "# \n",
    "<h1 style=\"font-size:300%; color:tomato; font-family:cursive;\">Nepali House Price Prediction</h1>"
   ]
  },
  {
   "cell_type": "markdown",
   "metadata": {},
   "source": [
    "The goal of this project is to learn about data pre-processing, feature engineering, and model building. I will be using the dataset from [Kaggle](https://www.kaggle.com/datasets/sagyamthapa/nepali-housing-price-dataset/data) which i felt is one of the challenging dataset which truly represents real-world noise. This notebook won’t explain the steps I take, as I have prepared a separate notebook for that.\n",
    "\n",
    "\n",
    "\n",
    "\n",
    "\n",
    "\n",
    "\n"
   ]
  },
  {
   "cell_type": "markdown",
   "metadata": {},
   "source": [
    "# 1. Data Exploration"
   ]
  },
  {
   "cell_type": "code",
   "execution_count": 109,
   "metadata": {},
   "outputs": [],
   "source": [
    "import pandas as pd\n",
    "import matplotlib.pyplot as plt\n",
    "import seaborn as sns\n",
    "import numpy as np\n",
    "import ast"
   ]
  },
  {
   "cell_type": "code",
   "execution_count": 110,
   "metadata": {},
   "outputs": [],
   "source": [
    "data = pd.read_csv('2020-4-27.csv') # read data from csv file"
   ]
  },
  {
   "cell_type": "code",
   "execution_count": 111,
   "metadata": {},
   "outputs": [
    {
     "data": {
      "text/html": [
       "<div>\n",
       "<style scoped>\n",
       "    .dataframe tbody tr th:only-of-type {\n",
       "        vertical-align: middle;\n",
       "    }\n",
       "\n",
       "    .dataframe tbody tr th {\n",
       "        vertical-align: top;\n",
       "    }\n",
       "\n",
       "    .dataframe thead th {\n",
       "        text-align: right;\n",
       "    }\n",
       "</style>\n",
       "<table border=\"1\" class=\"dataframe\">\n",
       "  <thead>\n",
       "    <tr style=\"text-align: right;\">\n",
       "      <th></th>\n",
       "      <th>Title</th>\n",
       "      <th>Address</th>\n",
       "      <th>City</th>\n",
       "      <th>Price</th>\n",
       "      <th>Bedroom</th>\n",
       "      <th>Bathroom</th>\n",
       "      <th>Floors</th>\n",
       "      <th>Parking</th>\n",
       "      <th>Face</th>\n",
       "      <th>Year</th>\n",
       "      <th>Views</th>\n",
       "      <th>Area</th>\n",
       "      <th>Road</th>\n",
       "      <th>Road Width</th>\n",
       "      <th>Road Type</th>\n",
       "      <th>Build Area</th>\n",
       "      <th>Posted</th>\n",
       "      <th>Amenities</th>\n",
       "    </tr>\n",
       "  </thead>\n",
       "  <tbody>\n",
       "    <tr>\n",
       "      <th>0</th>\n",
       "      <td>Flat System House On Sale At Budhanikantha : H...</td>\n",
       "      <td>Budhanikantha, Budhanilkantha, Kathmandu</td>\n",
       "      <td>Kathmandu</td>\n",
       "      <td>90000000</td>\n",
       "      <td>6</td>\n",
       "      <td>3</td>\n",
       "      <td>2.0</td>\n",
       "      <td>10</td>\n",
       "      <td>West</td>\n",
       "      <td>2073.0</td>\n",
       "      <td>17</td>\n",
       "      <td>1-0-0-0 Aana</td>\n",
       "      <td>20 Feet / Blacktopped</td>\n",
       "      <td>20 Feet</td>\n",
       "      <td>Blacktopped</td>\n",
       "      <td>18-0-0-0 Aana</td>\n",
       "      <td>11 hours ago</td>\n",
       "      <td>['Parking', 'Lawn', 'Garage', 'Frontyard', 'Fe...</td>\n",
       "    </tr>\n",
       "    <tr>\n",
       "      <th>1</th>\n",
       "      <td>21 Aana Beautiful House : House For Sale In Bu...</td>\n",
       "      <td>Pasikot, Budhanilkantha, Kathmandu</td>\n",
       "      <td>Kathmandu</td>\n",
       "      <td>80000000</td>\n",
       "      <td>5</td>\n",
       "      <td>3</td>\n",
       "      <td>2.0</td>\n",
       "      <td>9</td>\n",
       "      <td>East</td>\n",
       "      <td>2073.0</td>\n",
       "      <td>26</td>\n",
       "      <td>0-21-0-0 Aana</td>\n",
       "      <td>20 Feet / Blacktopped</td>\n",
       "      <td>20 Feet</td>\n",
       "      <td>Blacktopped</td>\n",
       "      <td>0-14-0-0 Aana</td>\n",
       "      <td>12 hours ago</td>\n",
       "      <td>['Parking', 'Garage', 'Fencing', 'Frontyard', ...</td>\n",
       "    </tr>\n",
       "  </tbody>\n",
       "</table>\n",
       "</div>"
      ],
      "text/plain": [
       "                                               Title  \\\n",
       "0  Flat System House On Sale At Budhanikantha : H...   \n",
       "1  21 Aana Beautiful House : House For Sale In Bu...   \n",
       "\n",
       "                                    Address       City     Price  Bedroom  \\\n",
       "0  Budhanikantha, Budhanilkantha, Kathmandu  Kathmandu  90000000        6   \n",
       "1        Pasikot, Budhanilkantha, Kathmandu  Kathmandu  80000000        5   \n",
       "\n",
       "   Bathroom  Floors  Parking  Face    Year Views           Area  \\\n",
       "0         3     2.0       10  West  2073.0    17   1-0-0-0 Aana   \n",
       "1         3     2.0        9  East  2073.0    26  0-21-0-0 Aana   \n",
       "\n",
       "                    Road Road Width     Road Type     Build Area  \\\n",
       "0  20 Feet / Blacktopped   20 Feet    Blacktopped  18-0-0-0 Aana   \n",
       "1  20 Feet / Blacktopped   20 Feet    Blacktopped  0-14-0-0 Aana   \n",
       "\n",
       "         Posted                                          Amenities  \n",
       "0  11 hours ago  ['Parking', 'Lawn', 'Garage', 'Frontyard', 'Fe...  \n",
       "1  12 hours ago  ['Parking', 'Garage', 'Fencing', 'Frontyard', ...  "
      ]
     },
     "execution_count": 111,
     "metadata": {},
     "output_type": "execute_result"
    }
   ],
   "source": [
    "data.head(2)"
   ]
  },
  {
   "cell_type": "code",
   "execution_count": 112,
   "metadata": {},
   "outputs": [
    {
     "name": "stdout",
     "output_type": "stream",
     "text": [
      " Columns in dataset: \n",
      "Index(['Title', 'Address', 'City', 'Price', 'Bedroom', 'Bathroom', 'Floors',\n",
      "       'Parking', 'Face', 'Year', 'Views', 'Area', 'Road', 'Road Width',\n",
      "       'Road Type', 'Build Area', 'Posted', 'Amenities'],\n",
      "      dtype='object'). \n",
      " Number of columns: 18\n"
     ]
    }
   ],
   "source": [
    "print(f\" Columns in dataset: \\n{data.columns}. \\n Number of columns: {len(data.columns)}\")\n"
   ]
  },
  {
   "cell_type": "code",
   "execution_count": 113,
   "metadata": {},
   "outputs": [
    {
     "name": "stdout",
     "output_type": "stream",
     "text": [
      "<class 'pandas.core.frame.DataFrame'>\n",
      "RangeIndex: 2211 entries, 0 to 2210\n",
      "Data columns (total 18 columns):\n",
      " #   Column      Non-Null Count  Dtype  \n",
      "---  ------      --------------  -----  \n",
      " 0   Title       2211 non-null   object \n",
      " 1   Address     2211 non-null   object \n",
      " 2   City        2211 non-null   object \n",
      " 3   Price       2211 non-null   int64  \n",
      " 4   Bedroom     2211 non-null   int64  \n",
      " 5   Bathroom    2211 non-null   int64  \n",
      " 6   Floors      1039 non-null   float64\n",
      " 7   Parking     2211 non-null   int64  \n",
      " 8   Face        2211 non-null   object \n",
      " 9   Year        582 non-null    float64\n",
      " 10  Views       2211 non-null   object \n",
      " 11  Area        2211 non-null   object \n",
      " 12  Road        2211 non-null   object \n",
      " 13  Road Width  2211 non-null   object \n",
      " 14  Road Type   1426 non-null   object \n",
      " 15  Build Area  2211 non-null   object \n",
      " 16  Posted      2211 non-null   object \n",
      " 17  Amenities   2211 non-null   object \n",
      "dtypes: float64(2), int64(4), object(12)\n",
      "memory usage: 311.1+ KB\n"
     ]
    }
   ],
   "source": [
    "data.info()"
   ]
  },
  {
   "cell_type": "code",
   "execution_count": 114,
   "metadata": {},
   "outputs": [
    {
     "data": {
      "text/plain": [
       "(2211, 18)"
      ]
     },
     "execution_count": 114,
     "metadata": {},
     "output_type": "execute_result"
    }
   ],
   "source": [
    "data.shape # shape of the data"
   ]
  },
  {
   "cell_type": "code",
   "execution_count": 115,
   "metadata": {},
   "outputs": [
    {
     "data": {
      "text/plain": [
       "RangeIndex(start=0, stop=2211, step=1)"
      ]
     },
     "execution_count": 115,
     "metadata": {},
     "output_type": "execute_result"
    }
   ],
   "source": [
    "data.index # index of the data"
   ]
  },
  {
   "cell_type": "code",
   "execution_count": 116,
   "metadata": {},
   "outputs": [
    {
     "data": {
      "text/plain": [
       "Title            0\n",
       "Address          0\n",
       "City             0\n",
       "Price            0\n",
       "Bedroom          0\n",
       "Bathroom         0\n",
       "Floors        1172\n",
       "Parking          0\n",
       "Face             0\n",
       "Year          1629\n",
       "Views            0\n",
       "Area             0\n",
       "Road             0\n",
       "Road Width       0\n",
       "Road Type      785\n",
       "Build Area       0\n",
       "Posted           0\n",
       "Amenities        0\n",
       "dtype: int64"
      ]
     },
     "execution_count": 116,
     "metadata": {},
     "output_type": "execute_result"
    }
   ],
   "source": [
    "data.isna().sum() # check for missing values"
   ]
  },
  {
   "cell_type": "code",
   "execution_count": 117,
   "metadata": {},
   "outputs": [
    {
     "data": {
      "text/plain": [
       "<Axes: >"
      ]
     },
     "execution_count": 117,
     "metadata": {},
     "output_type": "execute_result"
    },
    {
     "data": {
      "image/png": "[encoded data removed]",
      "text/plain": [
       "<Figure size 640x480 with 2 Axes>"
      ]
     },
     "metadata": {},
     "output_type": "display_data"
    }
   ],
   "source": [
    "sns.heatmap(data.select_dtypes(include=['number']).corr(), annot=True) # correlation matrix\n"
   ]
  },
  {
   "cell_type": "code",
   "execution_count": 118,
   "metadata": {},
   "outputs": [
    {
     "data": {
      "text/html": [
       "<div>\n",
       "<style scoped>\n",
       "    .dataframe tbody tr th:only-of-type {\n",
       "        vertical-align: middle;\n",
       "    }\n",
       "\n",
       "    .dataframe tbody tr th {\n",
       "        vertical-align: top;\n",
       "    }\n",
       "\n",
       "    .dataframe thead th {\n",
       "        text-align: right;\n",
       "    }\n",
       "</style>\n",
       "<table border=\"1\" class=\"dataframe\">\n",
       "  <thead>\n",
       "    <tr style=\"text-align: right;\">\n",
       "      <th></th>\n",
       "      <th>Title</th>\n",
       "      <th>Address</th>\n",
       "      <th>City</th>\n",
       "      <th>Price</th>\n",
       "      <th>Bedroom</th>\n",
       "      <th>Bathroom</th>\n",
       "      <th>Floors</th>\n",
       "      <th>Parking</th>\n",
       "      <th>Face</th>\n",
       "      <th>Year</th>\n",
       "      <th>Views</th>\n",
       "      <th>Area</th>\n",
       "      <th>Road</th>\n",
       "      <th>Road Width</th>\n",
       "      <th>Road Type</th>\n",
       "      <th>Build Area</th>\n",
       "      <th>Posted</th>\n",
       "      <th>Amenities</th>\n",
       "    </tr>\n",
       "  </thead>\n",
       "  <tbody>\n",
       "    <tr>\n",
       "      <th>1607</th>\n",
       "      <td>Prachanda Chitrakar : Hostel For Rent In Ason,...</td>\n",
       "      <td>Thahity, Ason, Kathmandu</td>\n",
       "      <td>Kathmandu</td>\n",
       "      <td>190000150000</td>\n",
       "      <td>0</td>\n",
       "      <td>0</td>\n",
       "      <td>7.0</td>\n",
       "      <td>3</td>\n",
       "      <td>West</td>\n",
       "      <td>1994.0</td>\n",
       "      <td>352</td>\n",
       "      <td>2 Aana</td>\n",
       "      <td>20 Feet / Blacktopped</td>\n",
       "      <td>20 Feet</td>\n",
       "      <td>Blacktopped</td>\n",
       "      <td>5500 Sq. Feet</td>\n",
       "      <td>11 months ago</td>\n",
       "      <td>['Drainage', 'Water Supply']</td>\n",
       "    </tr>\n",
       "    <tr>\n",
       "      <th>1538</th>\n",
       "      <td>DT : Office Space For Rent In Jawalakhel, Lali...</td>\n",
       "      <td>Jawalakhel, Lalitpur, Jawalakhel, Lalitpur</td>\n",
       "      <td>Lalitpur</td>\n",
       "      <td>155000150000</td>\n",
       "      <td>0</td>\n",
       "      <td>0</td>\n",
       "      <td>2.0</td>\n",
       "      <td>0</td>\n",
       "      <td>South West</td>\n",
       "      <td>2000.0</td>\n",
       "      <td>301</td>\n",
       "      <td>1-12-0-0 Aana</td>\n",
       "      <td>32 Feet / Blacktopped</td>\n",
       "      <td>32 Feet</td>\n",
       "      <td>Blacktopped</td>\n",
       "      <td>5 Aana</td>\n",
       "      <td>10 months ago</td>\n",
       "      <td>[]</td>\n",
       "    </tr>\n",
       "    <tr>\n",
       "      <th>243</th>\n",
       "      <td>House On Sale At Chabahil (50m Towards Ganeshs...</td>\n",
       "      <td>Chabahil, Charumati bihar, Chabahil, Kathmandu</td>\n",
       "      <td>Kathmandu</td>\n",
       "      <td>25000000</td>\n",
       "      <td>6</td>\n",
       "      <td>4</td>\n",
       "      <td>4.0</td>\n",
       "      <td>2</td>\n",
       "      <td>East</td>\n",
       "      <td>2000.0</td>\n",
       "      <td>479</td>\n",
       "      <td>2.5 Aana</td>\n",
       "      <td>20 Feet / Paved</td>\n",
       "      <td>20 Feet</td>\n",
       "      <td>Paved</td>\n",
       "      <td>2.5 Aana</td>\n",
       "      <td>2 months ago</td>\n",
       "      <td>['Parking', 'Balcony', 'Drainage', 'Water Supp...</td>\n",
       "    </tr>\n",
       "  </tbody>\n",
       "</table>\n",
       "</div>"
      ],
      "text/plain": [
       "                                                  Title  \\\n",
       "1607  Prachanda Chitrakar : Hostel For Rent In Ason,...   \n",
       "1538  DT : Office Space For Rent In Jawalakhel, Lali...   \n",
       "243   House On Sale At Chabahil (50m Towards Ganeshs...   \n",
       "\n",
       "                                             Address       City         Price  \\\n",
       "1607                        Thahity, Ason, Kathmandu  Kathmandu  190000150000   \n",
       "1538      Jawalakhel, Lalitpur, Jawalakhel, Lalitpur   Lalitpur  155000150000   \n",
       "243   Chabahil, Charumati bihar, Chabahil, Kathmandu  Kathmandu      25000000   \n",
       "\n",
       "      Bedroom  Bathroom  Floors  Parking        Face    Year Views  \\\n",
       "1607        0         0     7.0        3        West  1994.0   352   \n",
       "1538        0         0     2.0        0  South West  2000.0   301   \n",
       "243         6         4     4.0        2        East  2000.0   479   \n",
       "\n",
       "               Area                   Road Road Width     Road Type  \\\n",
       "1607         2 Aana  20 Feet / Blacktopped   20 Feet    Blacktopped   \n",
       "1538  1-12-0-0 Aana  32 Feet / Blacktopped   32 Feet    Blacktopped   \n",
       "243        2.5 Aana        20 Feet / Paved   20 Feet          Paved   \n",
       "\n",
       "         Build Area         Posted  \\\n",
       "1607  5500 Sq. Feet  11 months ago   \n",
       "1538         5 Aana  10 months ago   \n",
       "243        2.5 Aana   2 months ago   \n",
       "\n",
       "                                              Amenities  \n",
       "1607                       ['Drainage', 'Water Supply']  \n",
       "1538                                                 []  \n",
       "243   ['Parking', 'Balcony', 'Drainage', 'Water Supp...  "
      ]
     },
     "execution_count": 118,
     "metadata": {},
     "output_type": "execute_result"
    }
   ],
   "source": [
    "data.sort_values(\"Year\", ascending=True).head(3)"
   ]
  },
  {
   "cell_type": "code",
   "execution_count": 119,
   "metadata": {},
   "outputs": [
    {
     "data": {
      "text/html": [
       "<div>\n",
       "<style scoped>\n",
       "    .dataframe tbody tr th:only-of-type {\n",
       "        vertical-align: middle;\n",
       "    }\n",
       "\n",
       "    .dataframe tbody tr th {\n",
       "        vertical-align: top;\n",
       "    }\n",
       "\n",
       "    .dataframe thead th {\n",
       "        text-align: right;\n",
       "    }\n",
       "</style>\n",
       "<table border=\"1\" class=\"dataframe\">\n",
       "  <thead>\n",
       "    <tr style=\"text-align: right;\">\n",
       "      <th></th>\n",
       "      <th>Year</th>\n",
       "      <th>Floors</th>\n",
       "    </tr>\n",
       "  </thead>\n",
       "  <tbody>\n",
       "    <tr>\n",
       "      <th>17</th>\n",
       "      <td>NaN</td>\n",
       "      <td>NaN</td>\n",
       "    </tr>\n",
       "    <tr>\n",
       "      <th>18</th>\n",
       "      <td>NaN</td>\n",
       "      <td>NaN</td>\n",
       "    </tr>\n",
       "    <tr>\n",
       "      <th>19</th>\n",
       "      <td>NaN</td>\n",
       "      <td>NaN</td>\n",
       "    </tr>\n",
       "    <tr>\n",
       "      <th>21</th>\n",
       "      <td>NaN</td>\n",
       "      <td>NaN</td>\n",
       "    </tr>\n",
       "    <tr>\n",
       "      <th>25</th>\n",
       "      <td>NaN</td>\n",
       "      <td>3.0</td>\n",
       "    </tr>\n",
       "    <tr>\n",
       "      <th>...</th>\n",
       "      <td>...</td>\n",
       "      <td>...</td>\n",
       "    </tr>\n",
       "    <tr>\n",
       "      <th>2205</th>\n",
       "      <td>NaN</td>\n",
       "      <td>NaN</td>\n",
       "    </tr>\n",
       "    <tr>\n",
       "      <th>2206</th>\n",
       "      <td>NaN</td>\n",
       "      <td>3.0</td>\n",
       "    </tr>\n",
       "    <tr>\n",
       "      <th>2207</th>\n",
       "      <td>NaN</td>\n",
       "      <td>2.0</td>\n",
       "    </tr>\n",
       "    <tr>\n",
       "      <th>2209</th>\n",
       "      <td>NaN</td>\n",
       "      <td>2.0</td>\n",
       "    </tr>\n",
       "    <tr>\n",
       "      <th>2210</th>\n",
       "      <td>NaN</td>\n",
       "      <td>3.0</td>\n",
       "    </tr>\n",
       "  </tbody>\n",
       "</table>\n",
       "<p>1678 rows × 2 columns</p>\n",
       "</div>"
      ],
      "text/plain": [
       "      Year  Floors\n",
       "17     NaN     NaN\n",
       "18     NaN     NaN\n",
       "19     NaN     NaN\n",
       "21     NaN     NaN\n",
       "25     NaN     3.0\n",
       "...    ...     ...\n",
       "2205   NaN     NaN\n",
       "2206   NaN     3.0\n",
       "2207   NaN     2.0\n",
       "2209   NaN     2.0\n",
       "2210   NaN     3.0\n",
       "\n",
       "[1678 rows x 2 columns]"
      ]
     },
     "execution_count": 119,
     "metadata": {},
     "output_type": "execute_result"
    }
   ],
   "source": [
    "data[data['Year'].isna() | data['Floors'].isna()][['Year','Floors']] # checking missing values"
   ]
  },
  {
   "cell_type": "code",
   "execution_count": 120,
   "metadata": {},
   "outputs": [
    {
     "data": {
      "text/plain": [
       "np.float64(2057.780068728522)"
      ]
     },
     "execution_count": 120,
     "metadata": {},
     "output_type": "execute_result"
    }
   ],
   "source": [
    "data['Year'].mean()"
   ]
  },
  {
   "cell_type": "markdown",
   "metadata": {},
   "source": [
    "# 2. Data Cleaning and Transformations"
   ]
  },
  {
   "cell_type": "code",
   "execution_count": 121,
   "metadata": {},
   "outputs": [],
   "source": [
    "year_constant = data['Year'].mean().round(0)\n"
   ]
  },
  {
   "cell_type": "code",
   "execution_count": 122,
   "metadata": {},
   "outputs": [],
   "source": [
    "floor_constant = data['Floors'].mean().round(0) "
   ]
  },
  {
   "cell_type": "markdown",
   "metadata": {},
   "source": [
    "## 2.1. Handling Missing Values"
   ]
  },
  {
   "cell_type": "code",
   "execution_count": 123,
   "metadata": {},
   "outputs": [],
   "source": [
    "#filling missing value of year wiht mean value\n",
    "\n",
    "data['Year'] = data['Year'].fillna(year_constant)\n",
    "\n",
    "# filling missing vlue of floor with mean value\n",
    "data['Floors'] = data['Floors'].fillna(floor_constant)\n",
    "\n",
    "# handling road type column by dropping it\n",
    "data.drop('Road Type', axis=1, inplace=True) # droping column"
   ]
  },
  {
   "cell_type": "code",
   "execution_count": 124,
   "metadata": {},
   "outputs": [
    {
     "data": {
      "text/plain": [
       "Title         0\n",
       "Address       0\n",
       "City          0\n",
       "Price         0\n",
       "Bedroom       0\n",
       "Bathroom      0\n",
       "Floors        0\n",
       "Parking       0\n",
       "Face          0\n",
       "Year          0\n",
       "Views         0\n",
       "Area          0\n",
       "Road          0\n",
       "Road Width    0\n",
       "Build Area    0\n",
       "Posted        0\n",
       "Amenities     0\n",
       "dtype: int64"
      ]
     },
     "execution_count": 124,
     "metadata": {},
     "output_type": "execute_result"
    }
   ],
   "source": [
    "data.isna().sum()"
   ]
  },
  {
   "cell_type": "markdown",
   "metadata": {},
   "source": [
    "## 2.2 Dropping Unnecessary Columns"
   ]
  },
  {
   "cell_type": "code",
   "execution_count": 125,
   "metadata": {},
   "outputs": [
    {
     "data": {
      "text/html": [
       "<div>\n",
       "<style scoped>\n",
       "    .dataframe tbody tr th:only-of-type {\n",
       "        vertical-align: middle;\n",
       "    }\n",
       "\n",
       "    .dataframe tbody tr th {\n",
       "        vertical-align: top;\n",
       "    }\n",
       "\n",
       "    .dataframe thead th {\n",
       "        text-align: right;\n",
       "    }\n",
       "</style>\n",
       "<table border=\"1\" class=\"dataframe\">\n",
       "  <thead>\n",
       "    <tr style=\"text-align: right;\">\n",
       "      <th></th>\n",
       "      <th>Title</th>\n",
       "      <th>Address</th>\n",
       "      <th>City</th>\n",
       "      <th>Price</th>\n",
       "      <th>Bedroom</th>\n",
       "      <th>Bathroom</th>\n",
       "      <th>Floors</th>\n",
       "      <th>Parking</th>\n",
       "      <th>Face</th>\n",
       "      <th>Year</th>\n",
       "      <th>Views</th>\n",
       "      <th>Area</th>\n",
       "      <th>Road</th>\n",
       "      <th>Road Width</th>\n",
       "      <th>Build Area</th>\n",
       "      <th>Posted</th>\n",
       "      <th>Amenities</th>\n",
       "    </tr>\n",
       "  </thead>\n",
       "  <tbody>\n",
       "    <tr>\n",
       "      <th>0</th>\n",
       "      <td>Flat System House On Sale At Budhanikantha : H...</td>\n",
       "      <td>Budhanikantha, Budhanilkantha, Kathmandu</td>\n",
       "      <td>Kathmandu</td>\n",
       "      <td>90000000</td>\n",
       "      <td>6</td>\n",
       "      <td>3</td>\n",
       "      <td>2.0</td>\n",
       "      <td>10</td>\n",
       "      <td>West</td>\n",
       "      <td>2073.0</td>\n",
       "      <td>17</td>\n",
       "      <td>1-0-0-0 Aana</td>\n",
       "      <td>20 Feet / Blacktopped</td>\n",
       "      <td>20 Feet</td>\n",
       "      <td>18-0-0-0 Aana</td>\n",
       "      <td>11 hours ago</td>\n",
       "      <td>['Parking', 'Lawn', 'Garage', 'Frontyard', 'Fe...</td>\n",
       "    </tr>\n",
       "    <tr>\n",
       "      <th>1</th>\n",
       "      <td>21 Aana Beautiful House : House For Sale In Bu...</td>\n",
       "      <td>Pasikot, Budhanilkantha, Kathmandu</td>\n",
       "      <td>Kathmandu</td>\n",
       "      <td>80000000</td>\n",
       "      <td>5</td>\n",
       "      <td>3</td>\n",
       "      <td>2.0</td>\n",
       "      <td>9</td>\n",
       "      <td>East</td>\n",
       "      <td>2073.0</td>\n",
       "      <td>26</td>\n",
       "      <td>0-21-0-0 Aana</td>\n",
       "      <td>20 Feet / Blacktopped</td>\n",
       "      <td>20 Feet</td>\n",
       "      <td>0-14-0-0 Aana</td>\n",
       "      <td>12 hours ago</td>\n",
       "      <td>['Parking', 'Garage', 'Fencing', 'Frontyard', ...</td>\n",
       "    </tr>\n",
       "  </tbody>\n",
       "</table>\n",
       "</div>"
      ],
      "text/plain": [
       "                                               Title  \\\n",
       "0  Flat System House On Sale At Budhanikantha : H...   \n",
       "1  21 Aana Beautiful House : House For Sale In Bu...   \n",
       "\n",
       "                                    Address       City     Price  Bedroom  \\\n",
       "0  Budhanikantha, Budhanilkantha, Kathmandu  Kathmandu  90000000        6   \n",
       "1        Pasikot, Budhanilkantha, Kathmandu  Kathmandu  80000000        5   \n",
       "\n",
       "   Bathroom  Floors  Parking  Face    Year Views           Area  \\\n",
       "0         3     2.0       10  West  2073.0    17   1-0-0-0 Aana   \n",
       "1         3     2.0        9  East  2073.0    26  0-21-0-0 Aana   \n",
       "\n",
       "                    Road Road Width     Build Area        Posted  \\\n",
       "0  20 Feet / Blacktopped   20 Feet   18-0-0-0 Aana  11 hours ago   \n",
       "1  20 Feet / Blacktopped   20 Feet   0-14-0-0 Aana  12 hours ago   \n",
       "\n",
       "                                           Amenities  \n",
       "0  ['Parking', 'Lawn', 'Garage', 'Frontyard', 'Fe...  \n",
       "1  ['Parking', 'Garage', 'Fencing', 'Frontyard', ...  "
      ]
     },
     "execution_count": 125,
     "metadata": {},
     "output_type": "execute_result"
    }
   ],
   "source": [
    "data.head(2)"
   ]
  },
  {
   "cell_type": "code",
   "execution_count": 126,
   "metadata": {},
   "outputs": [],
   "source": [
    "temp = data.pop('Title') # poping out the title column which might be needed for resolving otyher missing values"
   ]
  },
  {
   "cell_type": "code",
   "execution_count": 127,
   "metadata": {},
   "outputs": [],
   "source": [
    "columns_to_drop = ['Address', 'Views', 'Posted','Road']"
   ]
  },
  {
   "cell_type": "code",
   "execution_count": 128,
   "metadata": {},
   "outputs": [],
   "source": [
    "data.drop(columns_to_drop, axis=1, inplace=True)"
   ]
  },
  {
   "cell_type": "code",
   "execution_count": 129,
   "metadata": {},
   "outputs": [
    {
     "data": {
      "text/html": [
       "<div>\n",
       "<style scoped>\n",
       "    .dataframe tbody tr th:only-of-type {\n",
       "        vertical-align: middle;\n",
       "    }\n",
       "\n",
       "    .dataframe tbody tr th {\n",
       "        vertical-align: top;\n",
       "    }\n",
       "\n",
       "    .dataframe thead th {\n",
       "        text-align: right;\n",
       "    }\n",
       "</style>\n",
       "<table border=\"1\" class=\"dataframe\">\n",
       "  <thead>\n",
       "    <tr style=\"text-align: right;\">\n",
       "      <th></th>\n",
       "      <th>City</th>\n",
       "      <th>Price</th>\n",
       "      <th>Bedroom</th>\n",
       "      <th>Bathroom</th>\n",
       "      <th>Floors</th>\n",
       "      <th>Parking</th>\n",
       "      <th>Face</th>\n",
       "      <th>Year</th>\n",
       "      <th>Area</th>\n",
       "      <th>Road Width</th>\n",
       "      <th>Build Area</th>\n",
       "      <th>Amenities</th>\n",
       "    </tr>\n",
       "  </thead>\n",
       "  <tbody>\n",
       "    <tr>\n",
       "      <th>0</th>\n",
       "      <td>Kathmandu</td>\n",
       "      <td>90000000</td>\n",
       "      <td>6</td>\n",
       "      <td>3</td>\n",
       "      <td>2.0</td>\n",
       "      <td>10</td>\n",
       "      <td>West</td>\n",
       "      <td>2073.0</td>\n",
       "      <td>1-0-0-0 Aana</td>\n",
       "      <td>20 Feet</td>\n",
       "      <td>18-0-0-0 Aana</td>\n",
       "      <td>['Parking', 'Lawn', 'Garage', 'Frontyard', 'Fe...</td>\n",
       "    </tr>\n",
       "    <tr>\n",
       "      <th>1</th>\n",
       "      <td>Kathmandu</td>\n",
       "      <td>80000000</td>\n",
       "      <td>5</td>\n",
       "      <td>3</td>\n",
       "      <td>2.0</td>\n",
       "      <td>9</td>\n",
       "      <td>East</td>\n",
       "      <td>2073.0</td>\n",
       "      <td>0-21-0-0 Aana</td>\n",
       "      <td>20 Feet</td>\n",
       "      <td>0-14-0-0 Aana</td>\n",
       "      <td>['Parking', 'Garage', 'Fencing', 'Frontyard', ...</td>\n",
       "    </tr>\n",
       "    <tr>\n",
       "      <th>2</th>\n",
       "      <td>Kathmandu</td>\n",
       "      <td>70000000</td>\n",
       "      <td>5</td>\n",
       "      <td>3</td>\n",
       "      <td>2.0</td>\n",
       "      <td>12</td>\n",
       "      <td>East</td>\n",
       "      <td>2071.0</td>\n",
       "      <td>1-1-0-0 Aana</td>\n",
       "      <td>20 Feet</td>\n",
       "      <td>10-1-0-0 Aana</td>\n",
       "      <td>['Parking', 'Lawn', 'Garage', 'Frontyard', 'Fe...</td>\n",
       "    </tr>\n",
       "    <tr>\n",
       "      <th>3</th>\n",
       "      <td>Kathmandu</td>\n",
       "      <td>130000000</td>\n",
       "      <td>6</td>\n",
       "      <td>4</td>\n",
       "      <td>3.0</td>\n",
       "      <td>9</td>\n",
       "      <td>West</td>\n",
       "      <td>2017.0</td>\n",
       "      <td>0-10-1-0 Aana</td>\n",
       "      <td>20 Feet</td>\n",
       "      <td>0-7-1-0 Aana</td>\n",
       "      <td>['Parking', 'Lawn', 'Garage', 'Frontyard', 'Fe...</td>\n",
       "    </tr>\n",
       "    <tr>\n",
       "      <th>4</th>\n",
       "      <td>Kathmandu</td>\n",
       "      <td>100000000</td>\n",
       "      <td>6</td>\n",
       "      <td>3</td>\n",
       "      <td>2.0</td>\n",
       "      <td>10</td>\n",
       "      <td>East</td>\n",
       "      <td>2070.0</td>\n",
       "      <td>0-19-2-0 Aana</td>\n",
       "      <td>20 Feet</td>\n",
       "      <td>0-14-2-0 Aana</td>\n",
       "      <td>['Parking', 'Lawn', 'Garage', 'Balcony', 'Back...</td>\n",
       "    </tr>\n",
       "  </tbody>\n",
       "</table>\n",
       "</div>"
      ],
      "text/plain": [
       "        City      Price  Bedroom  Bathroom  Floors  Parking  Face    Year  \\\n",
       "0  Kathmandu   90000000        6         3     2.0       10  West  2073.0   \n",
       "1  Kathmandu   80000000        5         3     2.0        9  East  2073.0   \n",
       "2  Kathmandu   70000000        5         3     2.0       12  East  2071.0   \n",
       "3  Kathmandu  130000000        6         4     3.0        9  West  2017.0   \n",
       "4  Kathmandu  100000000        6         3     2.0       10  East  2070.0   \n",
       "\n",
       "            Area Road Width     Build Area  \\\n",
       "0   1-0-0-0 Aana   20 Feet   18-0-0-0 Aana   \n",
       "1  0-21-0-0 Aana   20 Feet   0-14-0-0 Aana   \n",
       "2   1-1-0-0 Aana   20 Feet   10-1-0-0 Aana   \n",
       "3  0-10-1-0 Aana   20 Feet    0-7-1-0 Aana   \n",
       "4  0-19-2-0 Aana   20 Feet   0-14-2-0 Aana   \n",
       "\n",
       "                                           Amenities  \n",
       "0  ['Parking', 'Lawn', 'Garage', 'Frontyard', 'Fe...  \n",
       "1  ['Parking', 'Garage', 'Fencing', 'Frontyard', ...  \n",
       "2  ['Parking', 'Lawn', 'Garage', 'Frontyard', 'Fe...  \n",
       "3  ['Parking', 'Lawn', 'Garage', 'Frontyard', 'Fe...  \n",
       "4  ['Parking', 'Lawn', 'Garage', 'Balcony', 'Back...  "
      ]
     },
     "execution_count": 129,
     "metadata": {},
     "output_type": "execute_result"
    }
   ],
   "source": [
    "data.head()"
   ]
  },
  {
   "cell_type": "code",
   "execution_count": 130,
   "metadata": {},
   "outputs": [],
   "source": [
    "temp = set()\n",
    "\n",
    "for amenities in data['Amenities']:\n",
    "    # Remove the brackets and split by comma\n",
    "    amenities_list = amenities.strip('[]').replace(\"'\", \"\").split(',')\n",
    "    # Strip whitespace and add each cleaned item to the set\n",
    "    \n",
    "    temp.update(item.strip() for item in amenities_list)\n",
    "\n",
    "temp = list(temp)\n",
    "temp = temp[1:]"
   ]
  },
  {
   "cell_type": "code",
   "execution_count": 131,
   "metadata": {},
   "outputs": [
    {
     "data": {
      "text/plain": [
       "33"
      ]
     },
     "execution_count": 131,
     "metadata": {},
     "output_type": "execute_result"
    }
   ],
   "source": [
    "len(temp)"
   ]
  },
  {
   "cell_type": "code",
   "execution_count": 132,
   "metadata": {},
   "outputs": [
    {
     "name": "stdout",
     "output_type": "stream",
     "text": [
      "{'': 1067, 'Water Supply': 877, 'Drainage': 800, 'Balcony': 777, 'Water Tank': 726}\n"
     ]
    }
   ],
   "source": [
    "from collections import Counter\n",
    "\n",
    "# Step 1: Count occurrences of each amenity\n",
    "amenity_counts = Counter()\n",
    "\n",
    "for amenities in data['Amenities']:\n",
    "    amenities_list = amenities.strip('[]').replace(\"'\", \"\").split(',')\n",
    "    amenities_list = [item.strip() for item in amenities_list]  # Clean whitespace\n",
    "    amenity_counts.update(amenities_list)\n",
    "\n",
    "# Step 2: Get the top 5 most repeated amenities\n",
    "top_5_amenities = dict(amenity_counts.most_common(5))\n",
    "\n",
    "print(top_5_amenities)\n"
   ]
  },
  {
   "cell_type": "markdown",
   "metadata": {},
   "source": [
    "## 2.3 Handling Ameneities columnn"
   ]
  },
  {
   "cell_type": "code",
   "execution_count": 133,
   "metadata": {},
   "outputs": [],
   "source": [
    "data['Amenities'] = data['Amenities'].apply(ast.literal_eval)\n",
    "\n",
    "# Create dummy variables for each unique amenity\n",
    "amenities_dummies = pd.get_dummies(data['Amenities'].apply(pd.Series).stack()).groupby(level=0).sum()\n",
    "\n",
    "# Concatenate the original dataframe with the dummy variables\n",
    "data = pd.concat([data, amenities_dummies], axis=1)\n",
    "\n",
    "data = data.drop('Amenities', axis=1)"
   ]
  },
  {
   "cell_type": "code",
   "execution_count": null,
   "metadata": {},
   "outputs": [],
   "source": [
    "#removing top 5 amenities from temp list\n",
    "amenities_to_drop = temp - top_5_amenities.keys()\n",
    "data.drop(amenities_to_drop, axis=1, inplace=True)\n"
   ]
  },
  {
   "cell_type": "code",
   "execution_count": 136,
   "metadata": {},
   "outputs": [
    {
     "data": {
      "text/html": [
       "<div>\n",
       "<style scoped>\n",
       "    .dataframe tbody tr th:only-of-type {\n",
       "        vertical-align: middle;\n",
       "    }\n",
       "\n",
       "    .dataframe tbody tr th {\n",
       "        vertical-align: top;\n",
       "    }\n",
       "\n",
       "    .dataframe thead th {\n",
       "        text-align: right;\n",
       "    }\n",
       "</style>\n",
       "<table border=\"1\" class=\"dataframe\">\n",
       "  <thead>\n",
       "    <tr style=\"text-align: right;\">\n",
       "      <th></th>\n",
       "      <th>City</th>\n",
       "      <th>Price</th>\n",
       "      <th>Bedroom</th>\n",
       "      <th>Bathroom</th>\n",
       "      <th>Floors</th>\n",
       "      <th>Face</th>\n",
       "      <th>Year</th>\n",
       "      <th>Area</th>\n",
       "      <th>Road Width</th>\n",
       "      <th>Build Area</th>\n",
       "      <th>Balcony</th>\n",
       "      <th>Drainage</th>\n",
       "      <th>Water Supply</th>\n",
       "      <th>Water Tank</th>\n",
       "    </tr>\n",
       "  </thead>\n",
       "  <tbody>\n",
       "    <tr>\n",
       "      <th>0</th>\n",
       "      <td>Kathmandu</td>\n",
       "      <td>90000000</td>\n",
       "      <td>6</td>\n",
       "      <td>3</td>\n",
       "      <td>2.0</td>\n",
       "      <td>West</td>\n",
       "      <td>2073.0</td>\n",
       "      <td>1-0-0-0 Aana</td>\n",
       "      <td>20 Feet</td>\n",
       "      <td>18-0-0-0 Aana</td>\n",
       "      <td>1.0</td>\n",
       "      <td>1.0</td>\n",
       "      <td>1.0</td>\n",
       "      <td>1.0</td>\n",
       "    </tr>\n",
       "    <tr>\n",
       "      <th>1</th>\n",
       "      <td>Kathmandu</td>\n",
       "      <td>80000000</td>\n",
       "      <td>5</td>\n",
       "      <td>3</td>\n",
       "      <td>2.0</td>\n",
       "      <td>East</td>\n",
       "      <td>2073.0</td>\n",
       "      <td>0-21-0-0 Aana</td>\n",
       "      <td>20 Feet</td>\n",
       "      <td>0-14-0-0 Aana</td>\n",
       "      <td>1.0</td>\n",
       "      <td>1.0</td>\n",
       "      <td>1.0</td>\n",
       "      <td>1.0</td>\n",
       "    </tr>\n",
       "    <tr>\n",
       "      <th>2</th>\n",
       "      <td>Kathmandu</td>\n",
       "      <td>70000000</td>\n",
       "      <td>5</td>\n",
       "      <td>3</td>\n",
       "      <td>2.0</td>\n",
       "      <td>East</td>\n",
       "      <td>2071.0</td>\n",
       "      <td>1-1-0-0 Aana</td>\n",
       "      <td>20 Feet</td>\n",
       "      <td>10-1-0-0 Aana</td>\n",
       "      <td>1.0</td>\n",
       "      <td>1.0</td>\n",
       "      <td>1.0</td>\n",
       "      <td>1.0</td>\n",
       "    </tr>\n",
       "    <tr>\n",
       "      <th>3</th>\n",
       "      <td>Kathmandu</td>\n",
       "      <td>130000000</td>\n",
       "      <td>6</td>\n",
       "      <td>4</td>\n",
       "      <td>3.0</td>\n",
       "      <td>West</td>\n",
       "      <td>2017.0</td>\n",
       "      <td>0-10-1-0 Aana</td>\n",
       "      <td>20 Feet</td>\n",
       "      <td>0-7-1-0 Aana</td>\n",
       "      <td>1.0</td>\n",
       "      <td>1.0</td>\n",
       "      <td>1.0</td>\n",
       "      <td>1.0</td>\n",
       "    </tr>\n",
       "    <tr>\n",
       "      <th>4</th>\n",
       "      <td>Kathmandu</td>\n",
       "      <td>100000000</td>\n",
       "      <td>6</td>\n",
       "      <td>3</td>\n",
       "      <td>2.0</td>\n",
       "      <td>East</td>\n",
       "      <td>2070.0</td>\n",
       "      <td>0-19-2-0 Aana</td>\n",
       "      <td>20 Feet</td>\n",
       "      <td>0-14-2-0 Aana</td>\n",
       "      <td>1.0</td>\n",
       "      <td>1.0</td>\n",
       "      <td>1.0</td>\n",
       "      <td>1.0</td>\n",
       "    </tr>\n",
       "  </tbody>\n",
       "</table>\n",
       "</div>"
      ],
      "text/plain": [
       "        City      Price  Bedroom  Bathroom  Floors  Face    Year  \\\n",
       "0  Kathmandu   90000000        6         3     2.0  West  2073.0   \n",
       "1  Kathmandu   80000000        5         3     2.0  East  2073.0   \n",
       "2  Kathmandu   70000000        5         3     2.0  East  2071.0   \n",
       "3  Kathmandu  130000000        6         4     3.0  West  2017.0   \n",
       "4  Kathmandu  100000000        6         3     2.0  East  2070.0   \n",
       "\n",
       "            Area Road Width     Build Area  Balcony  Drainage  Water Supply  \\\n",
       "0   1-0-0-0 Aana   20 Feet   18-0-0-0 Aana      1.0       1.0           1.0   \n",
       "1  0-21-0-0 Aana   20 Feet   0-14-0-0 Aana      1.0       1.0           1.0   \n",
       "2   1-1-0-0 Aana   20 Feet   10-1-0-0 Aana      1.0       1.0           1.0   \n",
       "3  0-10-1-0 Aana   20 Feet    0-7-1-0 Aana      1.0       1.0           1.0   \n",
       "4  0-19-2-0 Aana   20 Feet   0-14-2-0 Aana      1.0       1.0           1.0   \n",
       "\n",
       "   Water Tank  \n",
       "0         1.0  \n",
       "1         1.0  \n",
       "2         1.0  \n",
       "3         1.0  \n",
       "4         1.0  "
      ]
     },
     "execution_count": 136,
     "metadata": {},
     "output_type": "execute_result"
    }
   ],
   "source": [
    "data.head()"
   ]
  },
  {
   "cell_type": "markdown",
   "metadata": {},
   "source": [
    "## 2.4 Convert Road Width column to Meter"
   ]
  },
  {
   "cell_type": "code",
   "execution_count": 137,
   "metadata": {},
   "outputs": [],
   "source": [
    "def convert_to_meters(value):\n",
    "    value = value.strip().lower()\n",
    "    if 'feet' in value:\n",
    "        # Extract numeric part and convert to meters\n",
    "        feet = float(value.replace('feet', '').strip())\n",
    "        return round(feet * 0.3048, 2)  # Convert to meters and round to 2 decimal places\n",
    "    elif 'meter' in value:\n",
    "        # Extract numeric part (already in meters)\n",
    "        meters = float(value.replace('meter', '').strip())\n",
    "        return round(meters, 2)\n",
    "    else:\n",
    "        # Handle cases without units (assuming it's in feet and convert to meters)\n",
    "        feet = float(value)\n",
    "        return round(feet * 0.3048, 2)\n",
    "\n",
    "# Apply the function to the 'Road Width' column\n",
    "data['Road Width'] = data['Road Width'].apply(convert_to_meters)"
   ]
  },
  {
   "cell_type": "markdown",
   "metadata": {},
   "source": [
    "## 2.5 Handling Face column"
   ]
  },
  {
   "cell_type": "code",
   "execution_count": 138,
   "metadata": {},
   "outputs": [],
   "source": [
    "face_dummies= pd.get_dummies(data['Face']).astype(int)\n",
    "data = pd.concat([data, face_dummies], axis=1)\n",
    "data = data.drop('Face', axis=1)\n",
    "\n"
   ]
  },
  {
   "cell_type": "markdown",
   "metadata": {},
   "source": [
    "## 2.6 Handling Area and Build Area column"
   ]
  },
  {
   "cell_type": "code",
   "execution_count": 139,
   "metadata": {},
   "outputs": [],
   "source": [
    "\n",
    "import pandas as pd\n",
    "import numpy as np\n",
    "import re\n",
    "\n",
    "def convert_to_aana(value):\n",
    "    \"\"\"Convert various area units to Aana\"\"\"\n",
    "    # Constants for conversion\n",
    "    ROPANI_TO_AANA = 16  # 1 Ropani = 16 Aana\n",
    "    SQFT_TO_AANA = 0.00795  # 1 Sq. Feet ≈ 0.00795 Aana\n",
    "    KATTHA_TO_AANA = 13.31  # 1 Kattha ≈ 13.31 Aana\n",
    "    DHUR_TO_AANA = 0.83  # 1 Dhur ≈ 0.83 Aana\n",
    "    BIGHA_TO_AANA = 399.3  # 1 Bigha ≈ 399.3 Aana\n",
    "    \n",
    "    if pd.isna(value) or value == 'dont know Sq. Feet':\n",
    "        return np.nan\n",
    "        \n",
    "    value = str(value).strip().lower()\n",
    "    \n",
    "    # Handle direct Aana measurements\n",
    "    if 'aana' in value and not any(unit in value for unit in ['ropani', 'sq. feet', 'kattha', 'dhur', 'bigha']):\n",
    "        \n",
    "        cleaned = value.replace('aana', '').replace('ana', '').strip()\n",
    "        try:\n",
    "            return float(cleaned)\n",
    "        except ValueError:\n",
    "            # Handle complex Aana format (e.g., \"0-21-0-0 Aana\")\n",
    "            parts = cleaned.split('-')\n",
    "            if len(parts) == 4:\n",
    "                try:\n",
    "                    total = (float(parts[0]) * 16) + float(parts[1]) + (float(parts[2]) / 4) + (float(parts[3]) / 16)\n",
    "                    return total\n",
    "                except ValueError:\n",
    "                    return np.nan\n",
    "    \n",
    "    # Handle Ropani\n",
    "    if 'ropani' in value:\n",
    "        cleaned = value.replace('ropani', '').strip()\n",
    "        try:\n",
    "            return float(cleaned) * ROPANI_TO_AANA\n",
    "        except ValueError:\n",
    "            parts = cleaned.split('-')\n",
    "            if len(parts) == 4:\n",
    "                try:\n",
    "                    total = (float(parts[0]) * ROPANI_TO_AANA) + float(parts[1]) + (float(parts[2]) / 4) + (float(parts[3]) / 16)\n",
    "                    return total\n",
    "                except ValueError:\n",
    "                    return np.nan\n",
    "    \n",
    "    # Handle Square Feet\n",
    "    if 'sq. feet' in value:\n",
    "        try:\n",
    "            number = float(re.findall(r'\\d+', value)[0])\n",
    "            return number * SQFT_TO_AANA\n",
    "        except (ValueError, IndexError):\n",
    "            return np.nan\n",
    "    \n",
    "    # Handle Kattha\n",
    "    if 'kattha' in value:\n",
    "        cleaned = value.replace('kattha', '').strip()\n",
    "        try:\n",
    "            return float(cleaned) * KATTHA_TO_AANA\n",
    "        except ValueError:\n",
    "            return np.nan\n",
    "    \n",
    "    # Handle Dhur\n",
    "    if 'dhur' in value:\n",
    "        cleaned = value.replace('dhur', '').strip()\n",
    "        try:\n",
    "            return float(cleaned) * DHUR_TO_AANA\n",
    "        except ValueError:\n",
    "            return np.nan\n",
    "            \n",
    "    # Handle Bigha\n",
    "    if 'bigha' in value:\n",
    "        cleaned = value.replace('bigha', '').strip()\n",
    "        try:\n",
    "            return float(cleaned) * BIGHA_TO_AANA\n",
    "        except ValueError:\n",
    "            return np.nan\n",
    "            \n",
    "    # Handle Haat (convert to sq feet first, then to Aana)\n",
    "    if 'haat' in value:\n",
    "        try:\n",
    "            dimensions = re.findall(r'\\d+', value)\n",
    "            if len(dimensions) == 2:\n",
    "                sq_feet = float(dimensions[0]) * float(dimensions[1])\n",
    "                return sq_feet * SQFT_TO_AANA\n",
    "        except (ValueError, IndexError):\n",
    "            return np.nan\n",
    "    \n",
    "    return np.nan\n",
    "\n",
    "\n",
    "# Create new columns for cleaned values\n",
    "data['Area'] = data['Area'].apply(convert_to_aana)\n",
    "    \n"
   ]
  },
  {
   "cell_type": "code",
   "execution_count": 140,
   "metadata": {},
   "outputs": [],
   "source": [
    "data.drop('Build Area', axis=1, inplace=True)"
   ]
  },
  {
   "cell_type": "code",
   "execution_count": 141,
   "metadata": {},
   "outputs": [],
   "source": [
    "data['Area'] = data['Area'].fillna(0)"
   ]
  },
  {
   "cell_type": "code",
   "execution_count": 142,
   "metadata": {},
   "outputs": [],
   "source": [
    "data = data[data['Area'] != 0]"
   ]
  },
  {
   "cell_type": "code",
   "execution_count": 143,
   "metadata": {},
   "outputs": [
    {
     "data": {
      "text/html": [
       "<div>\n",
       "<style scoped>\n",
       "    .dataframe tbody tr th:only-of-type {\n",
       "        vertical-align: middle;\n",
       "    }\n",
       "\n",
       "    .dataframe tbody tr th {\n",
       "        vertical-align: top;\n",
       "    }\n",
       "\n",
       "    .dataframe thead th {\n",
       "        text-align: right;\n",
       "    }\n",
       "</style>\n",
       "<table border=\"1\" class=\"dataframe\">\n",
       "  <thead>\n",
       "    <tr style=\"text-align: right;\">\n",
       "      <th></th>\n",
       "      <th>City</th>\n",
       "      <th>Price</th>\n",
       "      <th>Bedroom</th>\n",
       "      <th>Bathroom</th>\n",
       "      <th>Floors</th>\n",
       "      <th>Year</th>\n",
       "      <th>Area</th>\n",
       "      <th>Road Width</th>\n",
       "      <th>Balcony</th>\n",
       "      <th>Drainage</th>\n",
       "      <th>Water Supply</th>\n",
       "      <th>Water Tank</th>\n",
       "      <th>East</th>\n",
       "      <th>North</th>\n",
       "      <th>North East</th>\n",
       "      <th>North West</th>\n",
       "      <th>South</th>\n",
       "      <th>South East</th>\n",
       "      <th>South West</th>\n",
       "      <th>West</th>\n",
       "    </tr>\n",
       "  </thead>\n",
       "  <tbody>\n",
       "    <tr>\n",
       "      <th>0</th>\n",
       "      <td>Kathmandu</td>\n",
       "      <td>90000000</td>\n",
       "      <td>6</td>\n",
       "      <td>3</td>\n",
       "      <td>2.0</td>\n",
       "      <td>2073.0</td>\n",
       "      <td>16.00</td>\n",
       "      <td>6.1</td>\n",
       "      <td>1.0</td>\n",
       "      <td>1.0</td>\n",
       "      <td>1.0</td>\n",
       "      <td>1.0</td>\n",
       "      <td>0</td>\n",
       "      <td>0</td>\n",
       "      <td>0</td>\n",
       "      <td>0</td>\n",
       "      <td>0</td>\n",
       "      <td>0</td>\n",
       "      <td>0</td>\n",
       "      <td>1</td>\n",
       "    </tr>\n",
       "    <tr>\n",
       "      <th>1</th>\n",
       "      <td>Kathmandu</td>\n",
       "      <td>80000000</td>\n",
       "      <td>5</td>\n",
       "      <td>3</td>\n",
       "      <td>2.0</td>\n",
       "      <td>2073.0</td>\n",
       "      <td>21.00</td>\n",
       "      <td>6.1</td>\n",
       "      <td>1.0</td>\n",
       "      <td>1.0</td>\n",
       "      <td>1.0</td>\n",
       "      <td>1.0</td>\n",
       "      <td>1</td>\n",
       "      <td>0</td>\n",
       "      <td>0</td>\n",
       "      <td>0</td>\n",
       "      <td>0</td>\n",
       "      <td>0</td>\n",
       "      <td>0</td>\n",
       "      <td>0</td>\n",
       "    </tr>\n",
       "    <tr>\n",
       "      <th>2</th>\n",
       "      <td>Kathmandu</td>\n",
       "      <td>70000000</td>\n",
       "      <td>5</td>\n",
       "      <td>3</td>\n",
       "      <td>2.0</td>\n",
       "      <td>2071.0</td>\n",
       "      <td>17.00</td>\n",
       "      <td>6.1</td>\n",
       "      <td>1.0</td>\n",
       "      <td>1.0</td>\n",
       "      <td>1.0</td>\n",
       "      <td>1.0</td>\n",
       "      <td>1</td>\n",
       "      <td>0</td>\n",
       "      <td>0</td>\n",
       "      <td>0</td>\n",
       "      <td>0</td>\n",
       "      <td>0</td>\n",
       "      <td>0</td>\n",
       "      <td>0</td>\n",
       "    </tr>\n",
       "    <tr>\n",
       "      <th>3</th>\n",
       "      <td>Kathmandu</td>\n",
       "      <td>130000000</td>\n",
       "      <td>6</td>\n",
       "      <td>4</td>\n",
       "      <td>3.0</td>\n",
       "      <td>2017.0</td>\n",
       "      <td>10.25</td>\n",
       "      <td>6.1</td>\n",
       "      <td>1.0</td>\n",
       "      <td>1.0</td>\n",
       "      <td>1.0</td>\n",
       "      <td>1.0</td>\n",
       "      <td>0</td>\n",
       "      <td>0</td>\n",
       "      <td>0</td>\n",
       "      <td>0</td>\n",
       "      <td>0</td>\n",
       "      <td>0</td>\n",
       "      <td>0</td>\n",
       "      <td>1</td>\n",
       "    </tr>\n",
       "    <tr>\n",
       "      <th>4</th>\n",
       "      <td>Kathmandu</td>\n",
       "      <td>100000000</td>\n",
       "      <td>6</td>\n",
       "      <td>3</td>\n",
       "      <td>2.0</td>\n",
       "      <td>2070.0</td>\n",
       "      <td>19.50</td>\n",
       "      <td>6.1</td>\n",
       "      <td>1.0</td>\n",
       "      <td>1.0</td>\n",
       "      <td>1.0</td>\n",
       "      <td>1.0</td>\n",
       "      <td>1</td>\n",
       "      <td>0</td>\n",
       "      <td>0</td>\n",
       "      <td>0</td>\n",
       "      <td>0</td>\n",
       "      <td>0</td>\n",
       "      <td>0</td>\n",
       "      <td>0</td>\n",
       "    </tr>\n",
       "  </tbody>\n",
       "</table>\n",
       "</div>"
      ],
      "text/plain": [
       "        City      Price  Bedroom  Bathroom  Floors    Year   Area  Road Width  \\\n",
       "0  Kathmandu   90000000        6         3     2.0  2073.0  16.00         6.1   \n",
       "1  Kathmandu   80000000        5         3     2.0  2073.0  21.00         6.1   \n",
       "2  Kathmandu   70000000        5         3     2.0  2071.0  17.00         6.1   \n",
       "3  Kathmandu  130000000        6         4     3.0  2017.0  10.25         6.1   \n",
       "4  Kathmandu  100000000        6         3     2.0  2070.0  19.50         6.1   \n",
       "\n",
       "   Balcony  Drainage  Water Supply  Water Tank  East  North  North East  \\\n",
       "0      1.0       1.0           1.0         1.0     0      0           0   \n",
       "1      1.0       1.0           1.0         1.0     1      0           0   \n",
       "2      1.0       1.0           1.0         1.0     1      0           0   \n",
       "3      1.0       1.0           1.0         1.0     0      0           0   \n",
       "4      1.0       1.0           1.0         1.0     1      0           0   \n",
       "\n",
       "   North West  South  South East  South West  West  \n",
       "0           0      0           0           0     1  \n",
       "1           0      0           0           0     0  \n",
       "2           0      0           0           0     0  \n",
       "3           0      0           0           0     1  \n",
       "4           0      0           0           0     0  "
      ]
     },
     "execution_count": 143,
     "metadata": {},
     "output_type": "execute_result"
    }
   ],
   "source": [
    "data.head()"
   ]
  },
  {
   "cell_type": "markdown",
   "metadata": {},
   "source": [
    "## 2.7 Handling Price column"
   ]
  },
  {
   "cell_type": "code",
   "execution_count": 144,
   "metadata": {},
   "outputs": [
    {
     "name": "stdout",
     "output_type": "stream",
     "text": [
      "Outliers:\n",
      " 124\n"
     ]
    }
   ],
   "source": [
    "# Calculate Q1, Q3, and IQR\n",
    "Q1 = data['Price'].quantile(0.25)\n",
    "Q3 = data['Price'].quantile(0.75)\n",
    "IQR = Q3 - Q1\n",
    "\n",
    "# Define outlier range\n",
    "lower_bound = Q1 - 1.5 * IQR\n",
    "upper_bound = Q3 + 1.5 * IQR\n",
    "\n",
    "# Identify outliers\n",
    "outliers = data[(data['Price'] < lower_bound) | (data['Price'] > upper_bound)]\n",
    "print(\"Outliers:\\n\", len(outliers['Price']))\n",
    "\n"
   ]
  },
  {
   "cell_type": "code",
   "execution_count": 145,
   "metadata": {},
   "outputs": [],
   "source": [
    "data['Price'] = data['Price'].clip(lower=lower_bound, upper=upper_bound)"
   ]
  },
  {
   "cell_type": "code",
   "execution_count": 146,
   "metadata": {},
   "outputs": [],
   "source": [
    "data.dropna(axis=1, inplace=True)"
   ]
  },
  {
   "cell_type": "markdown",
   "metadata": {},
   "source": [
    "## 2.8 Handling Location column"
   ]
  },
  {
   "cell_type": "code",
   "execution_count": 150,
   "metadata": {},
   "outputs": [],
   "source": [
    "\n",
    "from sklearn.preprocessing import LabelEncoder"
   ]
  },
  {
   "cell_type": "code",
   "execution_count": 151,
   "metadata": {},
   "outputs": [],
   "source": [
    "le = LabelEncoder()\n",
    "\n",
    "data['City'] = le.fit_transform(data['City'])"
   ]
  },
  {
   "cell_type": "markdown",
   "metadata": {},
   "source": [
    "# 3. Model Building"
   ]
  },
  {
   "cell_type": "code",
   "execution_count": 152,
   "metadata": {},
   "outputs": [],
   "source": [
    "from sklearn.linear_model import LinearRegression\n",
    "from sklearn.model_selection import train_test_split\n",
    "\n",
    "x_train, x_test, y_train, y_test = train_test_split(data.drop('Price', axis=1), data['Price'], test_size=0.2, random_state=42)"
   ]
  },
  {
   "cell_type": "code",
   "execution_count": 153,
   "metadata": {},
   "outputs": [],
   "source": [
    "from sklearn.preprocessing import StandardScaler\n",
    "\n",
    "scaler = StandardScaler()\n",
    "x_train = scaler.fit_transform(x_train)\n",
    "x_test = scaler.transform(x_test)\n"
   ]
  },
  {
   "cell_type": "code",
   "execution_count": 163,
   "metadata": {},
   "outputs": [
    {
     "data": {
      "image/png": "[encoded data removed]",
      "text/plain": [
       "<Figure size 1500x1500 with 2 Axes>"
      ]
     },
     "metadata": {},
     "output_type": "display_data"
    }
   ],
   "source": [
    "plt.figure(figsize=(15,15))  # Set figure size\n",
    "sns.heatmap(data.corr(), annot=True, cmap=\"coolwarm\")  # Use a colormap for better visualization\n",
    "plt.show()"
   ]
  },
  {
   "cell_type": "markdown",
   "metadata": {},
   "source": [
    "## 3.1 Linear Regression"
   ]
  },
  {
   "cell_type": "code",
   "execution_count": 155,
   "metadata": {},
   "outputs": [
    {
     "data": {
      "text/plain": [
       "0.2665023179937148"
      ]
     },
     "execution_count": 155,
     "metadata": {},
     "output_type": "execute_result"
    }
   ],
   "source": [
    "model = LinearRegression()\n",
    "\n",
    "model.fit(x_train, y_train)\n",
    "\n",
    "model.score(x_test, y_test)\n",
    "\n"
   ]
  },
  {
   "cell_type": "markdown",
   "metadata": {},
   "source": [
    "## 3.2 Random Forest"
   ]
  },
  {
   "cell_type": "code",
   "execution_count": 156,
   "metadata": {},
   "outputs": [
    {
     "data": {
      "text/plain": [
       "0.27315273477231705"
      ]
     },
     "execution_count": 156,
     "metadata": {},
     "output_type": "execute_result"
    }
   ],
   "source": [
    "from sklearn.ensemble import RandomForestRegressor\n",
    "\n",
    "model = RandomForestRegressor(n_estimators=100, random_state=42)\n",
    "\n",
    "model.fit(x_train, y_train)\n",
    "\n",
    "model.score(x_test, y_test)\n",
    "\n"
   ]
  },
  {
   "cell_type": "markdown",
   "metadata": {},
   "source": [
    "## 3.3 XGBoost"
   ]
  },
  {
   "cell_type": "code",
   "execution_count": 157,
   "metadata": {},
   "outputs": [
    {
     "ename": "ModuleNotFoundError",
     "evalue": "No module named 'xgboost'",
     "output_type": "error",
     "traceback": [
      "\u001b[1;31m---------------------------------------------------------------------------\u001b[0m",
      "\u001b[1;31mModuleNotFoundError\u001b[0m                       Traceback (most recent call last)",
      "Cell \u001b[1;32mIn[157], line 1\u001b[0m\n\u001b[1;32m----> 1\u001b[0m \u001b[38;5;28;01mimport\u001b[39;00m\u001b[38;5;250m \u001b[39m\u001b[38;5;21;01mxgboost\u001b[39;00m\n\u001b[0;32m      3\u001b[0m model \u001b[38;5;241m=\u001b[39m xgboost\u001b[38;5;241m.\u001b[39mXGBRegressor(n_estimators\u001b[38;5;241m=\u001b[39m\u001b[38;5;241m100\u001b[39m, random_state\u001b[38;5;241m=\u001b[39m\u001b[38;5;241m42\u001b[39m)\n\u001b[0;32m      5\u001b[0m model\u001b[38;5;241m.\u001b[39mfit(x_train, y_train)\n",
      "\u001b[1;31mModuleNotFoundError\u001b[0m: No module named 'xgboost'"
     ]
    }
   ],
   "source": [
    "import xgboost\n",
    "\n",
    "model = xgboost.XGBRegressor(n_estimators=100, random_state=42)\n",
    "\n",
    "model.fit(x_train, y_train)\n",
    "\n",
    "model.score(x_test, y_test)\n",
    "\n",
    "\n",
    "\n"
   ]
  },
  {
   "cell_type": "code",
   "execution_count": null,
   "metadata": {},
   "outputs": [],
   "source": []
  }
 ],
 "metadata": {
  "kernelspec": {
   "display_name": "house",
   "language": "python",
   "name": "python3"
  },
  "language_info": {
   "codemirror_mode": {
    "name": "ipython",
    "version": 3
   },
   "file_extension": ".py",
   "mimetype": "text/x-python",
   "name": "python",
   "nbconvert_exporter": "python",
   "pygments_lexer": "ipython3",
   "version": "3.12.9"
  }
 },
 "nbformat": 4,
 "nbformat_minor": 2
}
